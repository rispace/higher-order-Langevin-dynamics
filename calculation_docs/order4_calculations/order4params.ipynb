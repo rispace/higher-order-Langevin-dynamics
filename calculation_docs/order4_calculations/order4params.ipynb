{
 "cells": [
  {
   "cell_type": "markdown",
   "id": "26ea2f23",
   "metadata": {},
   "source": [
    "# Fourth order Langevin dynamics parameters $\\mu_{ij}$'s, $\\sigma_{ij}$'s and covariance matrix computation  "
   ]
  },
  {
   "cell_type": "code",
   "execution_count": 1,
   "id": "44ad3a8a",
   "metadata": {},
   "outputs": [],
   "source": [
    "import numpy as np\n",
    "import matplotlib.pyplot as plt\n",
    "import math"
   ]
  },
  {
   "cell_type": "markdown",
   "id": "46203780",
   "metadata": {},
   "source": [
    "\\begin{align*}\n",
    "\\mu_{00} & =1 \\\\\n",
    "\\mu_{01} & = \\eta - \\gamma^2 \\frac{\\eta^3}{3!} + \\gamma^4 \\frac{\\eta^5}{5!} + \\gamma^4 \\Big( -\\frac{e^{-\\gamma \\eta}}{\\gamma^5}+ \\frac{1}{\\gamma^5} - \\frac{\\eta}{\\gamma^4} + \\frac{\\eta^2}{2 \\gamma^3} - \\frac{\\eta^3}{6 \\gamma^2} + \\frac{\\eta^4}{24 \\gamma} \\Big)\n",
    "\\end{align*}"
   ]
  },
  {
   "cell_type": "code",
   "execution_count": 2,
   "id": "bae64973",
   "metadata": {},
   "outputs": [],
   "source": [
    "def mu01(gamma, eta):\n",
    "    term1 = eta\n",
    "    term2 = - (gamma**2) * (eta**3) / math.factorial(3)\n",
    "    term3 = (gamma**4) * (eta**5) / math.factorial(5)\n",
    "\n",
    "    exp_term = -np.exp(-gamma * eta) / (gamma**5)\n",
    "    constant_terms = (\n",
    "        + 1 / gamma**5\n",
    "        - eta / gamma**4\n",
    "        + eta**2 / (2 * gamma**3)\n",
    "        - eta**3 / (6 * gamma**2)\n",
    "        + eta**4 / (24 * gamma)\n",
    "    )\n",
    "\n",
    "    term4 = gamma**4 * (exp_term + constant_terms)\n",
    "    val = term1 + term2 + term3 + term4\n",
    "    return val\n"
   ]
  },
  {
   "cell_type": "code",
   "execution_count": 3,
   "id": "6f6265db",
   "metadata": {},
   "outputs": [
    {
     "data": {
      "text/plain": [
       "np.float64(0.0004999979166718798)"
      ]
     },
     "execution_count": 3,
     "metadata": {},
     "output_type": "execute_result"
    }
   ],
   "source": [
    "mu01(10,0.0005)"
   ]
  },
  {
   "cell_type": "markdown",
   "id": "f9b5bcd0",
   "metadata": {},
   "source": [
    "\\begin{align*}\n",
    "\\mu_{02} = \\gamma \\frac{\\eta^2}{2!} - \\gamma^3 \\frac{\\eta^4}{4!} - \\gamma^3 \\left( \\frac{e^{-\\gamma\\eta}}{\\gamma^4} - \\frac{1}{\\gamma^4} + \\frac{\\eta}{\\gamma^3} - \\frac{\\eta^2}{2\\gamma^2} + \\frac{\\eta^3}{6\\gamma} \\right)\n",
    "\\end{align*}"
   ]
  },
  {
   "cell_type": "code",
   "execution_count": 4,
   "id": "72be1c12",
   "metadata": {},
   "outputs": [],
   "source": [
    "def mu02(gamma, eta):\n",
    "    term1 = gamma * (eta**2) / math.factorial(2)\n",
    "    term2 = - (gamma**3) * (eta**4) / math.factorial(4)\n",
    "\n",
    "    bracket = (\n",
    "        np.exp(-gamma * eta) / (gamma**4)\n",
    "        - 1 / (gamma**4)\n",
    "        + eta / (gamma**3)\n",
    "        - eta**2 / (2 * gamma**2)\n",
    "        + eta**3 / (6 * gamma)\n",
    "    )\n",
    "\n",
    "    term3 = - gamma**3 * bracket\n",
    "    val = term1 + term2 + term3\n",
    "\n",
    "    return val"
   ]
  },
  {
   "cell_type": "code",
   "execution_count": 5,
   "id": "d0f2f977",
   "metadata": {},
   "outputs": [
    {
     "data": {
      "text/plain": [
       "np.float64(1.249994794278908e-06)"
      ]
     },
     "execution_count": 5,
     "metadata": {},
     "output_type": "execute_result"
    }
   ],
   "source": [
    "mu02(10,0.0005)"
   ]
  },
  {
   "cell_type": "markdown",
   "id": "978cf67c",
   "metadata": {},
   "source": [
    "\\begin{aligned}\n",
    "\\mu_{03} &= -\\gamma^4\\frac{\\eta^5}{5!} \n",
    "+ \\gamma^2 \\left(-\\frac{e^{-\\gamma\\eta}}{\\gamma^3} + \\frac{1}{\\gamma^3} - \\frac{\\eta}{\\gamma^2} + \\frac{\\eta^2}{2\\gamma} \\right) \\\\\n",
    "&\\quad - \\gamma^4 \\left( -\\frac{e^{-\\gamma\\eta}}{\\gamma^5} + \\frac{1}{\\gamma^5} - \\frac{\\eta}{\\gamma^4} + \\frac{\\eta^2}{2\\gamma^3} - \\frac{\\eta^3}{6\\gamma^2} + \\frac{\\eta^4}{24\\gamma} \\right)\n",
    "\\end{aligned}"
   ]
  },
  {
   "cell_type": "code",
   "execution_count": 6,
   "id": "de05b522",
   "metadata": {},
   "outputs": [],
   "source": [
    "def mu03(gamma, eta):\n",
    "    term1 = - (gamma**4) * (eta**5) / math.factorial(5)\n",
    "\n",
    "    bracket1 = (\n",
    "        - np.exp(-gamma * eta) / (gamma**3)\n",
    "        + 1 / (gamma**3)\n",
    "        - eta / (gamma**2)\n",
    "        + eta**2 / (2 * gamma)\n",
    "    )\n",
    "\n",
    "    bracket2 = (\n",
    "        - np.exp(-gamma * eta) / (gamma**5)\n",
    "        + 1 / (gamma**5)\n",
    "        - eta / (gamma**4)\n",
    "        + eta**2 / (2 * gamma**3)\n",
    "        - eta**3 / (6 * gamma**2)\n",
    "        + eta**4 / (24 * gamma)\n",
    "    )\n",
    "\n",
    "    term2 = gamma**2 * bracket1\n",
    "    term3 = - gamma**4 * bracket2\n",
    "    \n",
    "    val = term1 + term2 + term3\n",
    "\n",
    "    return val"
   ]
  },
  {
   "cell_type": "code",
   "execution_count": 7,
   "id": "421c48ba",
   "metadata": {},
   "outputs": [
    {
     "data": {
      "text/plain": [
       "np.float64(2.0807265698904866e-09)"
      ]
     },
     "execution_count": 7,
     "metadata": {},
     "output_type": "execute_result"
    }
   ],
   "source": [
    "mu03(10,0.0005)"
   ]
  },
  {
   "cell_type": "markdown",
   "id": "f73ed9d9",
   "metadata": {},
   "source": [
    "\\begin{align*}\n",
    "\\mu_{10} & = 0\\\\\n",
    "\\mu_{11} & = 1 - \\gamma^2 \\frac{\\eta^2}{2!} + \\gamma^4 \\frac{\\eta^4}{4!} + \\gamma^4 \\left( \\frac{e^{-\\gamma\\eta}}{\\gamma^4} - \\frac{1}{\\gamma^4} + \\frac{\\eta}{\\gamma^3} - \\frac{\\eta^2}{2\\gamma^2} + \\frac{\\eta^3}{6\\gamma} \\right)\n",
    "\\end{align*}"
   ]
  },
  {
   "cell_type": "code",
   "execution_count": 8,
   "id": "8481d8ba",
   "metadata": {},
   "outputs": [],
   "source": [
    "def mu11(gamma, eta):\n",
    "    term1 = 1\n",
    "    term2 = - (gamma**2) * (eta**2) / math.factorial(2)\n",
    "    term3 = (gamma**4) * (eta**4) / math.factorial(4)\n",
    "\n",
    "    bracket = (\n",
    "        np.exp(-gamma * eta) / (gamma**4)\n",
    "        - 1 / (gamma**4)\n",
    "        + eta / (gamma**3)\n",
    "        - eta**2 / (2 * gamma**2)\n",
    "        + eta**3 / (6 * gamma)\n",
    "    )\n",
    "\n",
    "    term4 = gamma**4 * bracket\n",
    "    \n",
    "    val = term1 + term2 + term3 + term4\n",
    "\n",
    "    return val"
   ]
  },
  {
   "cell_type": "code",
   "execution_count": 9,
   "id": "7f57b154",
   "metadata": {},
   "outputs": [
    {
     "data": {
      "text/plain": [
       "np.float64(0.9999875000520572)"
      ]
     },
     "execution_count": 9,
     "metadata": {},
     "output_type": "execute_result"
    }
   ],
   "source": [
    "mu11(10,0.0005)"
   ]
  },
  {
   "cell_type": "markdown",
   "id": "8f424829",
   "metadata": {},
   "source": [
    "\\begin{align*}\n",
    "\\mu_{12} & = \\gamma \\eta - \\gamma^3 \\frac{\\eta^3}{3!} - \\gamma^3 \\left( -\\frac{e^{-\\gamma\\eta}}{\\gamma^3} + \\frac{1}{\\gamma^3} - \\frac{\\eta}{\\gamma^2} + \\frac{\\eta^2}{2\\gamma} \\right)\n",
    "\\end{align*}"
   ]
  },
  {
   "cell_type": "code",
   "execution_count": 10,
   "id": "0630ec56",
   "metadata": {},
   "outputs": [],
   "source": [
    "def mu12(gamma, eta):\n",
    "    term1 = gamma * eta\n",
    "    term2 = - (gamma**3) * (eta**3) / math.factorial(3)\n",
    "\n",
    "    bracket = (\n",
    "        - np.exp(-gamma * eta) / (gamma**3)\n",
    "        + 1 / (gamma**3)\n",
    "        - eta / (gamma**2)\n",
    "        + eta**2 / (2 * gamma)\n",
    "    )\n",
    "\n",
    "    term3 = - gamma**3 * bracket\n",
    "    \n",
    "    val = term1 + term2 + term3\n",
    "    \n",
    "    return val\n"
   ]
  },
  {
   "cell_type": "code",
   "execution_count": 11,
   "id": "a70b5b38",
   "metadata": {},
   "outputs": [
    {
     "data": {
      "text/plain": [
       "np.float64(0.004999958359348905)"
      ]
     },
     "execution_count": 11,
     "metadata": {},
     "output_type": "execute_result"
    }
   ],
   "source": [
    "mu12(10,0.0005)"
   ]
  },
  {
   "cell_type": "markdown",
   "id": "b779176c",
   "metadata": {},
   "source": [
    "\\begin{align*}\n",
    "\\mu_{13} & = -\\gamma^4 \\frac{\\eta^4}{4!} \n",
    "+ \\gamma^2 \\left( \\frac{e^{-\\gamma \\eta}}{\\gamma^2} - \\frac{1}{\\gamma^2} + \\frac{\\eta}{\\gamma} \\right)\n",
    "- \\gamma^4 \\left( \\frac{e^{-\\gamma \\eta}}{\\gamma^4} - \\frac{1}{\\gamma^4} + \\frac{\\eta}{\\gamma^3} - \\frac{\\eta^2}{2\\gamma^2} + \\frac{\\eta^3}{6\\gamma} \\right)\n",
    "\\end{align*}"
   ]
  },
  {
   "cell_type": "code",
   "execution_count": 12,
   "id": "230a29f7",
   "metadata": {},
   "outputs": [],
   "source": [
    "def mu13(gamma, eta):\n",
    "    term1 = - (gamma**4) * (eta**4) / math.factorial(4)\n",
    "\n",
    "    bracket1 = (\n",
    "        np.exp(-gamma * eta) / (gamma**2)\n",
    "        - 1 / (gamma**2)\n",
    "        + eta / gamma\n",
    "    )\n",
    "\n",
    "    bracket2 = (\n",
    "        np.exp(-gamma * eta) / (gamma**4)\n",
    "        - 1 / (gamma**4)\n",
    "        + eta / (gamma**3)\n",
    "        - eta**2 / (2 * gamma**2)\n",
    "        + eta**3 / (6 * gamma)\n",
    "    )\n",
    "\n",
    "    term2 = gamma**2 * bracket1\n",
    "    term3 = - gamma**4 * bracket2\n",
    "\n",
    "    val = term1 + term2 + term3\n",
    "    \n",
    "    return val"
   ]
  },
  {
   "cell_type": "code",
   "execution_count": 13,
   "id": "573d4a62",
   "metadata": {},
   "outputs": [
    {
     "data": {
      "text/plain": [
       "np.float64(1.2479140625157676e-05)"
      ]
     },
     "execution_count": 13,
     "metadata": {},
     "output_type": "execute_result"
    }
   ],
   "source": [
    "mu13(10,0.0005)"
   ]
  },
  {
   "cell_type": "markdown",
   "id": "ff1bad80",
   "metadata": {},
   "source": [
    "\\begin{aligned}\n",
    "\\mu_{20} & = 0\\\\\n",
    "\\mu_{21} &= -\\gamma \\eta + \\gamma^3 \\frac{\\eta^3}{3!} - \\gamma^5 \\frac{\\eta^5}{5!} \\\\\n",
    "&\\quad - \\gamma^5 \\left( -\\frac{e^{-\\gamma\\eta}}{\\gamma^5} + \\frac{1}{\\gamma^5} - \\frac{\\eta}{\\gamma^4} + \\frac{\\eta^2}{2\\gamma^3} - \\frac{\\eta^3}{6\\gamma^2} + \\frac{\\eta^4}{24\\gamma} \\right) \\\\\n",
    "&\\quad + \\gamma^3 \\left( -\\frac{e^{-\\gamma\\eta}}{\\gamma^3} + \\frac{1}{\\gamma^3} - \\frac{\\eta}{\\gamma^2} + \\frac{\\eta^2}{2\\gamma} \\right) \\\\\n",
    "&\\quad - \\frac{\\gamma^5}{3!} \\left( -\\frac{6e^{-\\gamma\\eta}}{\\gamma^5} + \\frac{6}{\\gamma^5} - \\frac{6\\eta}{\\gamma^4} + \\frac{3\\eta^2}{\\gamma^3} - \\frac{\\eta^3}{\\gamma^2} + \\frac{\\eta^4}{4\\gamma} \\right) \\\\\n",
    "&\\quad - \\gamma^5 \\left( \\frac{4e^{-\\gamma\\eta}}{\\gamma^5} - \\frac{4}{\\gamma^5} + \\frac{\\eta e^{-\\gamma\\eta}}{\\gamma^4} + \\frac{3\\eta}{\\gamma^4} - \\frac{\\eta^2}{\\gamma^3} + \\frac{\\eta^3}{6\\gamma^2} \\right)\n",
    "\\end{aligned}"
   ]
  },
  {
   "cell_type": "code",
   "execution_count": 14,
   "id": "583f7d48",
   "metadata": {},
   "outputs": [],
   "source": [
    "def mu21(gamma, eta):\n",
    "    # Leading terms\n",
    "    term1 = - gamma * eta\n",
    "    term2 = gamma**3 * eta**3 / math.factorial(3)\n",
    "    term3 = - gamma**5 * eta**5 / math.factorial(5)\n",
    "\n",
    "    # First bracket (with gamma^5)\n",
    "    bracket1 = (\n",
    "        - np.exp(-gamma * eta) / gamma**5\n",
    "        + 1 / gamma**5\n",
    "        - eta / gamma**4\n",
    "        + eta**2 / (2 * gamma**3)\n",
    "        - eta**3 / (6 * gamma**2)\n",
    "        + eta**4 / (24 * gamma)\n",
    "    )\n",
    "    term4 = - gamma**5 * bracket1\n",
    "\n",
    "    # Second bracket (with gamma^3)\n",
    "    bracket2 = (\n",
    "        - np.exp(-gamma * eta) / gamma**3\n",
    "        + 1 / gamma**3\n",
    "        - eta / gamma**2\n",
    "        + eta**2 / (2 * gamma)\n",
    "    )\n",
    "    term5 = gamma**3 * bracket2\n",
    "\n",
    "    # Third bracket (gamma^5 / 3!)\n",
    "    bracket3 = (\n",
    "        - 6 * np.exp(-gamma * eta) / gamma**5\n",
    "        + 6 / gamma**5\n",
    "        - 6 * eta / gamma**4\n",
    "        + 3 * eta**2 / gamma**3\n",
    "        - eta**3 / gamma**2\n",
    "        + eta**4 / (4 * gamma)\n",
    "    )\n",
    "    term6 = - (gamma**5 / math.factorial(3)) * bracket3\n",
    "\n",
    "    # Fourth bracket (gamma^5)\n",
    "    bracket4 = (\n",
    "        4 * np.exp(-gamma * eta) / gamma**5\n",
    "        - 4 / gamma**5\n",
    "        + eta * np.exp(-gamma * eta) / gamma**4\n",
    "        + 3 * eta / gamma**4\n",
    "        - eta**2 / gamma**3\n",
    "        + eta**3 / (6 * gamma**2)\n",
    "    )\n",
    "    term7 = - gamma**5 * bracket4\n",
    "    \n",
    "    val = term1 + term2 + term3 + term4 + term5 + term6 + term7\n",
    "\n",
    "    return val"
   ]
  },
  {
   "cell_type": "code",
   "execution_count": 15,
   "id": "fdcfda0d",
   "metadata": {},
   "outputs": [
    {
     "data": {
      "text/plain": [
       "np.float64(-0.00499995835945304)"
      ]
     },
     "execution_count": 15,
     "metadata": {},
     "output_type": "execute_result"
    }
   ],
   "source": [
    "mu21(10, 0.0005)"
   ]
  },
  {
   "cell_type": "markdown",
   "id": "0721b463",
   "metadata": {},
   "source": [
    "\\begin{aligned}\n",
    "\\mu_{22} &= 1 - \\gamma^2 \\frac{\\eta^2}{2} + \\gamma^4 \\frac{\\eta^4}{4!} \\\\\n",
    "&\\quad + \\gamma^4 \\left( \\frac{e^{-\\gamma\\eta}}{\\gamma^4} - \\frac{1}{\\gamma^4} + \\frac{\\eta}{\\gamma^3} - \\frac{\\eta^2}{2\\gamma^2} + \\frac{\\eta^3}{6\\gamma} \\right) \\\\\n",
    "&\\quad - \\gamma^2 \\left( \\frac{e^{-\\gamma\\eta}}{\\gamma^2} - \\frac{1}{\\gamma^2} + \\frac{\\eta}{\\gamma} \\right) \\\\\n",
    "&\\quad + \\frac{\\gamma^4}{2!} \\left( \\frac{2e^{-\\gamma\\eta}}{\\gamma^4} - \\frac{2}{\\gamma^4} + \\frac{2\\eta}{\\gamma^3} - \\frac{\\eta^2}{\\gamma^2} + \\frac{\\eta^3}{3\\gamma} \\right) \\\\\n",
    "&\\quad + \\gamma^4 \\left( -\\frac{3e^{-\\gamma\\eta}}{\\gamma^4} + \\frac{3}{\\gamma^4} - \\frac{\\eta e^{-\\gamma\\eta}}{\\gamma^3} - \\frac{2\\eta}{\\gamma^3} + \\frac{\\eta^2}{2\\gamma^2} \\right)\n",
    "\\end{aligned}"
   ]
  },
  {
   "cell_type": "code",
   "execution_count": 16,
   "id": "2908b859",
   "metadata": {},
   "outputs": [],
   "source": [
    "def mu22(gamma, eta):\n",
    "    term1 = 1\n",
    "    term2 = - gamma**2 * eta**2 / 2\n",
    "    term3 = gamma**4 * eta**4 / math.factorial(4)\n",
    "\n",
    "    # Bracket 1\n",
    "    bracket1 = (\n",
    "        np.exp(-gamma * eta) / gamma**4\n",
    "        - 1 / gamma**4\n",
    "        + eta / gamma**3\n",
    "        - eta**2 / (2 * gamma**2)\n",
    "        + eta**3 / (6 * gamma)\n",
    "    )\n",
    "    term4 = gamma**4 * bracket1\n",
    "\n",
    "    # Bracket 2\n",
    "    bracket2 = (\n",
    "        np.exp(-gamma * eta) / gamma**2\n",
    "        - 1 / gamma**2\n",
    "        + eta / gamma\n",
    "    )\n",
    "    term5 = - gamma**2 * bracket2\n",
    "\n",
    "    # Bracket 3 (coefficient γ⁴ / 2!)\n",
    "    bracket3 = (\n",
    "        2 * np.exp(-gamma * eta) / gamma**4\n",
    "        - 2 / gamma**4\n",
    "        + 2 * eta / gamma**3\n",
    "        - eta**2 / gamma**2\n",
    "        + eta**3 / (3 * gamma)\n",
    "    )\n",
    "    term6 = (gamma**4 / math.factorial(2)) * bracket3\n",
    "\n",
    "    # Bracket 4\n",
    "    bracket4 = (\n",
    "        - 3 * np.exp(-gamma * eta) / gamma**4\n",
    "        + 3 / gamma**4\n",
    "        - eta * np.exp(-gamma * eta) / gamma**3\n",
    "        - 2 * eta / gamma**3\n",
    "        + eta**2 / (2 * gamma**2)\n",
    "    )\n",
    "    term7 = gamma**4 * bracket4\n",
    "    \n",
    "    val = term1 + term2 + term3 + term4 + term5 + term6 + term7\n",
    "\n",
    "    return val"
   ]
  },
  {
   "cell_type": "code",
   "execution_count": 17,
   "id": "5df13047",
   "metadata": {},
   "outputs": [
    {
     "data": {
      "text/plain": [
       "np.float64(0.9999750209113799)"
      ]
     },
     "execution_count": 17,
     "metadata": {},
     "output_type": "execute_result"
    }
   ],
   "source": [
    "mu22(10,0.0005)"
   ]
  },
  {
   "cell_type": "markdown",
   "id": "25f9bb32",
   "metadata": {},
   "source": [
    "\\begin{aligned}\n",
    "\\mu_{23} &= \\gamma^5 \\frac{\\eta^5}{5!} \\\\\n",
    "&\\quad - \\gamma^3 \\left(-\\frac{e^{-\\gamma\\eta}}{\\gamma^3} + \\frac{1}{\\gamma^3} - \\frac{\\eta}{\\gamma^2} + \\frac{\\eta^2}{2\\gamma} \\right) \\\\\n",
    "&\\quad + \\gamma^5 \\left(-\\frac{e^{-\\gamma\\eta}}{\\gamma^5} + \\frac{1}{\\gamma^5} - \\frac{\\eta}{\\gamma^4} + \\frac{\\eta^2}{2\\gamma^3} - \\frac{\\eta^3}{6\\gamma^2} + \\frac{\\eta^4}{24\\gamma} \\right) \\\\\n",
    "&\\quad + (1 - e^{-\\gamma\\eta}) \\\\\n",
    "&\\quad + \\frac{\\gamma^5}{3!} \\left(-\\frac{6e^{-\\gamma\\eta}}{\\gamma^5} + \\frac{6}{\\gamma^5} - \\frac{6\\eta}{\\gamma^4} + \\frac{3\\eta^2}{\\gamma^3} - \\frac{\\eta^3}{\\gamma^2} + \\frac{\\eta^4}{4\\gamma} \\right) \\\\\n",
    "&\\quad + \\gamma^5 \\left( \\frac{4e^{-\\gamma\\eta}}{\\gamma^5} - \\frac{4}{\\gamma^5} + \\frac{\\eta e^{-\\gamma\\eta}}{\\gamma^4} + \\frac{3\\eta}{\\gamma^4} - \\frac{\\eta^2}{\\gamma^3} + \\frac{\\eta^3}{6\\gamma^2} \\right)\n",
    "\\end{aligned}"
   ]
  },
  {
   "cell_type": "code",
   "execution_count": 18,
   "id": "5bfd99f0",
   "metadata": {},
   "outputs": [],
   "source": [
    "def mu23(gamma, eta):\n",
    "    # Term 1\n",
    "    term1 = gamma**5 * eta**5 / math.factorial(5)\n",
    "\n",
    "    # Bracket 1 (gamma^3)\n",
    "    bracket1 = (\n",
    "        - np.exp(-gamma * eta) / gamma**3\n",
    "        + 1 / gamma**3\n",
    "        - eta / gamma**2\n",
    "        + eta**2 / (2 * gamma)\n",
    "    )\n",
    "    term2 = - gamma**3 * bracket1\n",
    "\n",
    "    # Bracket 2 (gamma^5)\n",
    "    bracket2 = (\n",
    "        - np.exp(-gamma * eta) / gamma**5\n",
    "        + 1 / gamma**5\n",
    "        - eta / gamma**4\n",
    "        + eta**2 / (2 * gamma**3)\n",
    "        - eta**3 / (6 * gamma**2)\n",
    "        + eta**4 / (24 * gamma)\n",
    "    )\n",
    "    term3 = gamma**5 * bracket2\n",
    "\n",
    "    # Term 4\n",
    "    term4 = 1 - np.exp(-gamma * eta)\n",
    "\n",
    "    # Bracket 3 (gamma^5 / 3!)\n",
    "    bracket3 = (\n",
    "        - 6 * np.exp(-gamma * eta) / gamma**5\n",
    "        + 6 / gamma**5\n",
    "        - 6 * eta / gamma**4\n",
    "        + 3 * eta**2 / gamma**3\n",
    "        - eta**3 / gamma**2\n",
    "        + eta**4 / (4 * gamma)\n",
    "    )\n",
    "    term5 = (gamma**5 / math.factorial(3)) * bracket3\n",
    "\n",
    "    # Bracket 4 (gamma^5)\n",
    "    bracket4 = (\n",
    "        4 * np.exp(-gamma * eta) / gamma**5\n",
    "        - 4 / gamma**5\n",
    "        + eta * np.exp(-gamma * eta) / gamma**4\n",
    "        + 3 * eta / gamma**4\n",
    "        - eta**2 / gamma**3\n",
    "        + eta**3 / (6 * gamma**2)\n",
    "    )\n",
    "    term6 = gamma**5 * bracket4\n",
    "    \n",
    "    val = term1 + term2 + term3 + term4 + term5 + term6\n",
    "\n",
    "    return val"
   ]
  },
  {
   "cell_type": "code",
   "execution_count": 19,
   "id": "e0119ff2",
   "metadata": {},
   "outputs": [
    {
     "data": {
      "text/plain": [
       "np.float64(0.004987500000104054)"
      ]
     },
     "execution_count": 19,
     "metadata": {},
     "output_type": "execute_result"
    }
   ],
   "source": [
    "mu23(10,0.0005)"
   ]
  },
  {
   "cell_type": "markdown",
   "id": "a9d376a4",
   "metadata": {},
   "source": [
    "\\begin{aligned}\n",
    "\\mu_{30} & = 0 \\\\\n",
    "\\mu_{31} &= \n",
    "\\gamma^2 \\left( \\frac{e^{-\\gamma\\eta}}{\\gamma^2} - \\frac{1}{\\gamma^2} + \\frac{\\eta}{\\gamma} \\right) \\\\\n",
    "&\\quad - \\frac{\\gamma^4}{3!} \\left( \\frac{6e^{-\\gamma\\eta}}{\\gamma^4} - \\frac{6}{\\gamma^4} + \\frac{6\\eta}{\\gamma^3} - \\frac{3\\eta^2}{\\gamma^2} + \\frac{\\eta^3}{\\gamma} \\right) \\\\\n",
    "&\\quad + \\frac{\\gamma^6}{5!} \\left( \\frac{120e^{-\\gamma\\eta}}{\\gamma^6} - \\frac{120}{\\gamma^6} + \\frac{120\\eta}{\\gamma^5} - \\frac{60\\eta^2}{\\gamma^4} + \\frac{20\\eta^3}{\\gamma^3} - \\frac{5\\eta^4}{\\gamma^2} + \\frac{\\eta^5}{\\gamma} \\right) \\\\\n",
    "&\\quad + \\gamma^6 \\left( -\\frac{5e^{-\\gamma\\eta}}{\\gamma^6} + \\frac{5}{\\gamma^6} - \\frac{\\eta e^{-\\gamma\\eta}}{\\gamma^5} - \\frac{4\\eta}{\\gamma^5} + \\frac{3\\eta^2}{2\\gamma^4} - \\frac{\\eta^3}{3\\gamma^3} + \\frac{\\eta^4}{24\\gamma^2} \\right) \\\\\n",
    "&\\quad - \\gamma^4 \\left( -\\frac{3e^{-\\gamma\\eta}}{\\gamma^4} + \\frac{3}{\\gamma^4} - \\frac{\\eta e^{-\\gamma\\eta}}{\\gamma^3} - \\frac{2\\eta}{\\gamma^3} + \\frac{\\eta^2}{2\\gamma^2} \\right) \\\\\n",
    "&\\quad + \\frac{\\gamma^6}{3!} \\left( -\\frac{30e^{-\\gamma\\eta}}{\\gamma^6} + \\frac{30}{\\gamma^6} - \\frac{6\\eta e^{-\\gamma\\eta}}{\\gamma^5} - \\frac{24\\eta}{\\gamma^5} + \\frac{9\\eta^2}{\\gamma^4} - \\frac{2\\eta^3}{\\gamma^3} + \\frac{\\eta^4}{4\\gamma^2} \\right) \\\\\n",
    "&\\quad + \\gamma^6 \\left( \\frac{10e^{-\\gamma\\eta}}{\\gamma^6} - \\frac{10}{\\gamma^6} + \\frac{4\\eta e^{-\\gamma\\eta}}{\\gamma^5} + \\frac{6\\eta}{\\gamma^5} + \\frac{\\eta^2 e^{-\\gamma\\eta}}{2\\gamma^4} - \\frac{3\\eta^2}{2\\gamma^4} + \\frac{\\eta^3}{6\\gamma^3} \\right)\n",
    "\\end{aligned}"
   ]
  },
  {
   "cell_type": "code",
   "execution_count": 20,
   "id": "21fd71e3",
   "metadata": {},
   "outputs": [],
   "source": [
    "def mu31(gamma, eta):\n",
    "    exp = np.exp(-gamma * eta)\n",
    "\n",
    "    # Term 1\n",
    "    bracket1 = (\n",
    "        exp / gamma**2\n",
    "        - 1 / gamma**2\n",
    "        + eta / gamma\n",
    "    )\n",
    "    term1 = gamma**2 * bracket1\n",
    "\n",
    "    # Term 2\n",
    "    bracket2 = (\n",
    "        6 * exp / gamma**4\n",
    "        - 6 / gamma**4\n",
    "        + 6 * eta / gamma**3\n",
    "        - 3 * eta**2 / gamma**2\n",
    "        + eta**3 / gamma\n",
    "    )\n",
    "    term2 = - (gamma**4 / math.factorial(3)) * bracket2\n",
    "\n",
    "    # Term 3\n",
    "    bracket3 = (\n",
    "        120 * exp / gamma**6\n",
    "        - 120 / gamma**6\n",
    "        + 120 * eta / gamma**5\n",
    "        - 60 * eta**2 / gamma**4\n",
    "        + 20 * eta**3 / gamma**3\n",
    "        - 5 * eta**4 / gamma**2\n",
    "        + eta**5 / gamma\n",
    "    )\n",
    "    term3 = (gamma**6 / math.factorial(5)) * bracket3\n",
    "\n",
    "    # Term 4\n",
    "    bracket4 = (\n",
    "        -5 * exp / gamma**6\n",
    "        + 5 / gamma**6\n",
    "        - eta * exp / gamma**5\n",
    "        - 4 * eta / gamma**5\n",
    "        + 3 * eta**2 / (2 * gamma**4)\n",
    "        - eta**3 / (3 * gamma**3)\n",
    "        + eta**4 / (24 * gamma**2)\n",
    "    )\n",
    "    term4 = gamma**6 * bracket4\n",
    "\n",
    "    # Term 5\n",
    "    bracket5 = (\n",
    "        -3 * exp / gamma**4\n",
    "        + 3 / gamma**4\n",
    "        - eta * exp / gamma**3\n",
    "        - 2 * eta / gamma**3\n",
    "        + eta**2 / (2 * gamma**2)\n",
    "    )\n",
    "    term5 = - gamma**4 * bracket5\n",
    "\n",
    "    # Term 6\n",
    "    bracket6 = (\n",
    "        -30 * exp / gamma**6\n",
    "        + 30 / gamma**6\n",
    "        - 6 * eta * exp / gamma**5\n",
    "        - 24 * eta / gamma**5\n",
    "        + 9 * eta**2 / gamma**4\n",
    "        - 2 * eta**3 / gamma**3\n",
    "        + eta**4 / (4 * gamma**2)\n",
    "    )\n",
    "    term6 = (gamma**6 / math.factorial(3)) * bracket6\n",
    "\n",
    "    # Term 7\n",
    "    bracket7 = (\n",
    "        10 * exp / gamma**6\n",
    "        - 10 / gamma**6\n",
    "        + 4 * eta * exp / gamma**5\n",
    "        + 6 * eta / gamma**5\n",
    "        + eta**2 * exp / (2 * gamma**4)\n",
    "        - 3 * eta**2 / (2 * gamma**4)\n",
    "        + eta**3 / (6 * gamma**3)\n",
    "    )\n",
    "    term7 = gamma**6 * bracket7\n",
    "    \n",
    "    val = term1 + term2 + term3 + term4 + term5 + term6 + term7\n",
    "\n",
    "    return val"
   ]
  },
  {
   "cell_type": "code",
   "execution_count": 21,
   "id": "db2d5395",
   "metadata": {},
   "outputs": [
    {
     "data": {
      "text/plain": [
       "np.float64(1.2479140677447468e-05)"
      ]
     },
     "execution_count": 21,
     "metadata": {},
     "output_type": "execute_result"
    }
   ],
   "source": [
    "mu31(10,0.0005)"
   ]
  },
  {
   "cell_type": "markdown",
   "id": "0adb428b",
   "metadata": {},
   "source": [
    "\\begin{aligned}\n",
    "\\mu_{32} &= -\\gamma \\left( \\frac{1}{\\gamma} - \\frac{e^{-\\gamma\\eta}}{\\gamma} \\right) \\\\\n",
    "&\\quad + \\frac{\\gamma^3}{2!} \\left( -\\frac{2e^{-\\gamma\\eta}}{\\gamma^3} + \\frac{2}{\\gamma^3} - \\frac{2\\eta}{\\gamma^2} + \\frac{\\eta^2}{\\gamma} \\right) \\\\\n",
    "&\\quad - \\frac{\\gamma^5}{4!} \\left( -\\frac{24e^{-\\gamma\\eta}}{\\gamma^5} + \\frac{24}{\\gamma^5} - \\frac{24\\eta}{\\gamma^4} + \\frac{12\\eta^2}{\\gamma^3} - \\frac{4\\eta^3}{\\gamma^2} + \\frac{\\eta^4}{\\gamma} \\right) \\\\\n",
    "&\\quad - \\gamma^5 \\left( \\frac{4e^{-\\gamma\\eta}}{\\gamma^5} - \\frac{4}{\\gamma^5} + \\frac{\\eta e^{-\\gamma\\eta}}{\\gamma^4} + \\frac{3\\eta}{\\gamma^4} - \\frac{\\eta^2}{\\gamma^3} + \\frac{\\eta^3}{6\\gamma^2} \\right) \\\\\n",
    "&\\quad + \\gamma^3 \\left( \\frac{2e^{-\\gamma\\eta}}{\\gamma^3} - \\frac{2}{\\gamma^3} + \\frac{\\eta e^{-\\gamma\\eta}}{\\gamma^2} + \\frac{\\eta}{\\gamma^2} \\right) \\\\\n",
    "&\\quad - \\frac{\\gamma^5}{2!} \\left( \\frac{8e^{-\\gamma\\eta}}{\\gamma^5} - \\frac{8}{\\gamma^5} + \\frac{2\\eta e^{-\\gamma\\eta}}{\\gamma^4} + \\frac{6\\eta}{\\gamma^4} - \\frac{2\\eta^2}{\\gamma^3} + \\frac{\\eta^3}{3\\gamma^2} \\right) \\\\\n",
    "&\\quad - \\gamma^5 \\left( -\\frac{6e^{-\\gamma\\eta}}{\\gamma^5} + \\frac{6}{\\gamma^5} - \\frac{3\\eta e^{-\\gamma\\eta}}{\\gamma^4} - \\frac{3\\eta}{\\gamma^4} - \\frac{\\eta^2 e^{-\\gamma\\eta}}{2\\gamma^3} + \\frac{\\eta^2}{2\\gamma^3} \\right)\n",
    "\\end{aligned}"
   ]
  },
  {
   "cell_type": "code",
   "execution_count": 22,
   "id": "5ec98194",
   "metadata": {},
   "outputs": [],
   "source": [
    "def mu32(gamma, eta):\n",
    "    exp = np.exp(-gamma * eta)\n",
    "\n",
    "    # Term 1\n",
    "    bracket1 = (1 / gamma - exp / gamma)\n",
    "    term1 = -gamma * bracket1\n",
    "\n",
    "    # Term 2\n",
    "    bracket2 = (\n",
    "        -2 * exp / gamma**3\n",
    "        + 2 / gamma**3\n",
    "        - 2 * eta / gamma**2\n",
    "        + eta**2 / gamma\n",
    "    )\n",
    "    term2 = (gamma**3 / math.factorial(2)) * bracket2\n",
    "\n",
    "    # Term 3\n",
    "    bracket3 = (\n",
    "        -24 * exp / gamma**5\n",
    "        + 24 / gamma**5\n",
    "        - 24 * eta / gamma**4\n",
    "        + 12 * eta**2 / gamma**3\n",
    "        - 4 * eta**3 / gamma**2\n",
    "        + eta**4 / gamma\n",
    "    )\n",
    "    term3 = - (gamma**5 / math.factorial(4)) * bracket3\n",
    "\n",
    "    # Term 4\n",
    "    bracket4 = (\n",
    "        4 * exp / gamma**5\n",
    "        - 4 / gamma**5\n",
    "        + eta * exp / gamma**4\n",
    "        + 3 * eta / gamma**4\n",
    "        - eta**2 / gamma**3\n",
    "        + eta**3 / (6 * gamma**2)\n",
    "    )\n",
    "    term4 = - gamma**5 * bracket4\n",
    "\n",
    "    # Term 5\n",
    "    bracket5 = (\n",
    "        2 * exp / gamma**3\n",
    "        - 2 / gamma**3\n",
    "        + eta * exp / gamma**2\n",
    "        + eta / gamma**2\n",
    "    )\n",
    "    term5 = gamma**3 * bracket5\n",
    "\n",
    "    # Term 6\n",
    "    bracket6 = (\n",
    "        8 * exp / gamma**5\n",
    "        - 8 / gamma**5\n",
    "        + 2 * eta * exp / gamma**4\n",
    "        + 6 * eta / gamma**4\n",
    "        - 2 * eta**2 / gamma**3\n",
    "        + eta**3 / (3 * gamma**2)\n",
    "    )\n",
    "    term6 = - (gamma**5 / math.factorial(2)) * bracket6\n",
    "\n",
    "    # Term 7\n",
    "    bracket7 = (\n",
    "        -6 * exp / gamma**5\n",
    "        + 6 / gamma**5\n",
    "        - 3 * eta * exp / gamma**4\n",
    "        - 3 * eta / gamma**4\n",
    "        - eta**2 * exp / (2 * gamma**3)\n",
    "        + eta**2 / (2 * gamma**3)\n",
    "    )\n",
    "    term7 = - gamma**5 * bracket7\n",
    "    \n",
    "    val = term1 + term2 + term3 + term4 + term5 + term6 + term7\n",
    "\n",
    "    return val"
   ]
  },
  {
   "cell_type": "code",
   "execution_count": 23,
   "id": "a5206e4e",
   "metadata": {},
   "outputs": [
    {
     "data": {
      "text/plain": [
       "np.float64(-0.004987479218776473)"
      ]
     },
     "execution_count": 23,
     "metadata": {},
     "output_type": "execute_result"
    }
   ],
   "source": [
    "mu32(10,0.0005)"
   ]
  },
  {
   "cell_type": "markdown",
   "id": "32403590",
   "metadata": {},
   "source": [
    "\\begin{aligned}\n",
    "\\mu_{33} &= e^{-\\gamma \\eta} \\\\\n",
    "&\\quad - \\frac{\\gamma^6}{5!} \\left( \\frac{120e^{-\\gamma\\eta}}{\\gamma^6} - \\frac{120}{\\gamma^6} + \\frac{120\\eta}{\\gamma^5} - \\frac{60\\eta^2}{\\gamma^4} + \\frac{20\\eta^3}{\\gamma^3} - \\frac{5\\eta^4}{\\gamma^2} + \\frac{\\eta^5}{\\gamma} \\right) \\\\\n",
    "&\\quad + \\gamma^4 \\left( -\\frac{3e^{-\\gamma\\eta}}{\\gamma^4} + \\frac{3}{\\gamma^4} - \\frac{\\eta e^{-\\gamma\\eta}}{\\gamma^3} - \\frac{2\\eta}{\\gamma^3} + \\frac{\\eta^2}{2\\gamma^2} \\right) \\\\\n",
    "&\\quad - \\gamma^6 \\left( -\\frac{5e^{-\\gamma\\eta}}{\\gamma^6} + \\frac{5}{\\gamma^6} - \\frac{\\eta e^{-\\gamma\\eta}}{\\gamma^5} - \\frac{4\\eta}{\\gamma^5} + \\frac{3\\eta^2}{2\\gamma^4} - \\frac{\\eta^3}{3\\gamma^3} + \\frac{\\eta^4}{24\\gamma^2} \\right) \\\\\n",
    "&\\quad - \\gamma^2 \\left( -\\frac{e^{-\\gamma\\eta}}{\\gamma^2} + \\frac{1}{\\gamma^2} - \\frac{\\eta e^{-\\gamma\\eta}}{\\gamma} \\right) \\\\\n",
    "&\\quad - \\frac{\\gamma^6}{3!} \\left( -\\frac{30e^{-\\gamma\\eta}}{\\gamma^6} + \\frac{30}{\\gamma^6} - \\frac{6\\eta e^{-\\gamma\\eta}}{\\gamma^5} - \\frac{24\\eta}{\\gamma^5} + \\frac{9\\eta^2}{\\gamma^4} - \\frac{2\\eta^3}{\\gamma^3} + \\frac{\\eta^4}{4\\gamma^2} \\right) \\\\\n",
    "&\\quad + \\gamma^4 \\left( \\frac{3e^{-\\gamma\\eta}}{\\gamma^4} - \\frac{3}{\\gamma^4} + \\frac{2\\eta e^{-\\gamma\\eta}}{\\gamma^3} + \\frac{\\eta}{\\gamma^3} + \\frac{\\eta^2 e^{-\\gamma\\eta}}{2\\gamma^2} \\right) \\\\\n",
    "&\\quad - \\gamma^6 \\left( \\frac{10e^{-\\gamma\\eta}}{\\gamma^6} - \\frac{10}{\\gamma^6} + \\frac{4\\eta e^{-\\gamma\\eta}}{\\gamma^5} + \\frac{6\\eta}{\\gamma^5} + \\frac{\\eta^2 e^{-\\gamma\\eta}}{2\\gamma^4} - \\frac{3\\eta^2}{2\\gamma^4} + \\frac{\\eta^3}{6\\gamma^3} \\right)\n",
    "\\end{aligned}"
   ]
  },
  {
   "cell_type": "code",
   "execution_count": 24,
   "id": "e1b775ec",
   "metadata": {},
   "outputs": [],
   "source": [
    "def mu33(gamma, eta):\n",
    "    exp = np.exp(-gamma * eta)\n",
    "\n",
    "    # Term 1\n",
    "    term1 = exp\n",
    "\n",
    "    # Term 2\n",
    "    bracket2 = (\n",
    "        120 * exp / gamma**6\n",
    "        - 120 / gamma**6\n",
    "        + 120 * eta / gamma**5\n",
    "        - 60 * eta**2 / gamma**4\n",
    "        + 20 * eta**3 / gamma**3\n",
    "        - 5 * eta**4 / gamma**2\n",
    "        + eta**5 / gamma\n",
    "    )\n",
    "    term2 = - (gamma**6 / math.factorial(5)) * bracket2\n",
    "\n",
    "    # Term 3\n",
    "    bracket3 = (\n",
    "        -3 * exp / gamma**4\n",
    "        + 3 / gamma**4\n",
    "        - eta * exp / gamma**3\n",
    "        - 2 * eta / gamma**3\n",
    "        + eta**2 / (2 * gamma**2)\n",
    "    )\n",
    "    term3 = gamma**4 * bracket3\n",
    "\n",
    "    # Term 4\n",
    "    bracket4 = (\n",
    "        -5 * exp / gamma**6\n",
    "        + 5 / gamma**6\n",
    "        - eta * exp / gamma**5\n",
    "        - 4 * eta / gamma**5\n",
    "        + 3 * eta**2 / (2 * gamma**4)\n",
    "        - eta**3 / (3 * gamma**3)\n",
    "        + eta**4 / (24 * gamma**2)\n",
    "    )\n",
    "    term4 = - gamma**6 * bracket4\n",
    "\n",
    "    # Term 5\n",
    "    bracket5 = (\n",
    "        - exp / gamma**2\n",
    "        + 1 / gamma**2\n",
    "        - eta * exp / gamma\n",
    "    )\n",
    "    term5 = - gamma**2 * bracket5\n",
    "\n",
    "    # Term 6\n",
    "    bracket6 = (\n",
    "        -30 * exp / gamma**6\n",
    "        + 30 / gamma**6\n",
    "        - 6 * eta * exp / gamma**5\n",
    "        - 24 * eta / gamma**5\n",
    "        + 9 * eta**2 / gamma**4\n",
    "        - 2 * eta**3 / gamma**3\n",
    "        + eta**4 / (4 * gamma**2)\n",
    "    )\n",
    "    term6 = - (gamma**6 / math.factorial(3)) * bracket6\n",
    "\n",
    "    # Term 7\n",
    "    bracket7 = (\n",
    "        3 * exp / gamma**4\n",
    "        - 3 / gamma**4\n",
    "        + 2 * eta * exp / gamma**3\n",
    "        + eta / gamma**3\n",
    "        + eta**2 * exp / (2 * gamma**2)\n",
    "    )\n",
    "    term7 = gamma**4 * bracket7\n",
    "\n",
    "    # Term 8\n",
    "    bracket8 = (\n",
    "        10 * exp / gamma**6\n",
    "        - 10 / gamma**6\n",
    "        + 4 * eta * exp / gamma**5\n",
    "        + 6 * eta / gamma**5\n",
    "        + eta**2 * exp / (2 * gamma**4)\n",
    "        - 3 * eta**2 / (2 * gamma**4)\n",
    "        + eta**3 / (6 * gamma**3)\n",
    "    )\n",
    "    term8 = - gamma**6 * bracket8\n",
    "    \n",
    "    val = term1 + term2 + term3 + term4 + term5 + term6 + term7 + term8\n",
    "\n",
    "    return val"
   ]
  },
  {
   "cell_type": "code",
   "execution_count": 25,
   "id": "4deb72c2",
   "metadata": {},
   "outputs": [
    {
     "data": {
      "text/plain": [
       "np.float64(0.9950000208332811)"
      ]
     },
     "execution_count": 25,
     "metadata": {},
     "output_type": "execute_result"
    }
   ],
   "source": [
    "mu33(10,0.0005)"
   ]
  },
  {
   "cell_type": "markdown",
   "id": "b698b1e4",
   "metadata": {},
   "source": [
    "## Covariance Calculations\n",
    "\n",
    "Define  \n",
    "\n",
    "\\begin{align*}\n",
    "f_0 & = \\gamma^2\\sqrt{2\\gamma}\\int_{k\\eta}^{(k+1)\\eta}\\frac{\\gamma (y-\\eta(k+1))(-\\gamma\\eta(k+1)+\\gamma y +2)-2\\left(e^{\\gamma (y-\\eta(k+1))}-1\\right)}{2\\gamma^3}dB_y\\\\\n",
    "f_1 & = \\gamma^2\\sqrt{2\\gamma}\\int_{k\\eta}^{(k+1)\\eta}\\frac{\\gamma\\eta+\\gamma\\eta k + e^{\\gamma(y-\\eta(k+1))}-\\gamma y -1}{\\gamma^2}dB_y\\\\\n",
    "f_2 & = -\\gamma^3\\sqrt{2\\gamma}\\int_{k\\eta}^{(k+1)\\eta}\\frac{\\gamma (y-\\eta(k+1))(-\\gamma\\eta(k+1)+\\gamma y +2)-2\\left(e^{\\gamma (y-\\eta(k+1))}-1\\right)}{2\\gamma^3}dB_y\\\\\n",
    "& -\\gamma\\sqrt{2\\gamma}\\int_{k\\eta}^{(k+1)\\eta}\\frac{e^{\\gamma(y-\\eta(k+1))}-1}{\\gamma}dB_y\\\\\n",
    "& -\\gamma^3\\sqrt{2\\gamma}\\int_{k\\eta}^{(k+1)\\eta}\\frac{\\gamma\\eta+\\gamma\\eta k+e^{\\gamma(y-\\eta(k+1))}\\left(\\gamma\\eta(k+1)-\\gamma y +2\\right)-\\gamma y -2}{\\gamma^3}dB_y\\\\\n",
    "f_3 & = \\sqrt{2\\gamma}\\int_{k\\eta}^{(k+1)\\eta}e^{\\gamma(y-\\eta(k+1))}dB_y+\\gamma^4\\sqrt{2\\gamma}\\int_{k\\eta}^{(k+1)\\eta}\\frac{y-\\eta k}{2\\gamma^4}\\Bigg(2e^{\\gamma(y-\\eta(k+1))}\\\\\n",
    "& (-\\gamma\\eta(k+1)+\\gamma y -3)+\\gamma(y-\\eta(k+1))(-\\gamma\\eta(k+1)+\\gamma y +4)+6\\Bigg)dB_y\\\\\n",
    "& -\\gamma^2\\sqrt{2\\gamma}\\int_{k\\eta}^{(k+1)\\eta}\\frac{e^{\\gamma(y-\\eta(k+1))}(-\\gamma\\eta(k+1)+\\gamma y-1)+1}{\\gamma^2}dB_y\\\\\n",
    "& + \\gamma^4\\sqrt{2\\gamma}\\int_{k\\eta}^{(k+1)\\eta}\\frac{1}{2\\gamma^4}\\Bigg(2\\gamma\\eta(k+1)+e^{\\gamma(y-\\eta(k+1))}(\\gamma(y-\\eta(k+1))(-\\gamma\\eta(k+1)+\\gamma y -4)+ 6)-2\\gamma y -6\\Bigg)\n",
    "\\end{align*}\n",
    "\n",
    "We calculate $\\sigma_{ij}$ using the Ito isometry  \n",
    "\n",
    "\\begin{align*}\n",
    "\\mathbb{E}\\left[\\left(\\int_0^T X_t dW_t\\right)\\left(\\int_0^T Y_t dW_t\\right)\\right] & = \\mathbb{E}\\left[\\int_0^T X_tY_t dt \\right]\n",
    "\\end{align*}  \n",
    "\n",
    "Accordingly, \n",
    "\n",
    "\\begin{align*}\n",
    "\\sigma_{00}& = \\mathbb{E}\\left[\\left(\\theta^{(k+1)}-\\mathbb{E}\\left[\\theta^{(k+1)}\\big| x^{(k)}\\right]\\right)^2\\Big| x^{(k)}\\right]\\\\\n",
    "& = \\int_{k\\eta}^{(k+1)\\eta}f_0^2 dy\\\\\n",
    "& = \\frac{2\\,\\eta }{\\gamma }-\\frac{{\\mathrm{e}}^{-2\\,\\eta \\,\\gamma }-4\\,{\\mathrm{e}}^{-\\eta \\,\\gamma }+3}{\\gamma ^2}+\\frac{4\\,\\eta ^3\\,\\gamma }{3}+2\\,\\eta ^2\\,{\\mathrm{e}}^{-\\eta \\,\\gamma }-2\\,\\eta ^2-\\frac{\\eta ^4\\,\\gamma ^2}{2}+\\frac{\\eta ^5\\,\\gamma ^3}{10}\n",
    "\\end{align*}"
   ]
  },
  {
   "cell_type": "code",
   "execution_count": 26,
   "id": "7f241426",
   "metadata": {},
   "outputs": [],
   "source": [
    "def sigma00(gamma, eta):\n",
    "    val = (\n",
    "        ((2 * eta) / gamma)\n",
    "        - ((np.exp(-2 * gamma * eta) - 4 * np.exp(-gamma * eta) + 3) / np.power(gamma,2))\n",
    "        + ((4 * np.power(eta,3) * gamma) / 3.0)\n",
    "        + 2 * np.power(eta,2) * np.exp(-eta * gamma)\n",
    "        - 2 * np.power(eta,2)\n",
    "        - ((np.power(eta,4) * np.power(gamma,2)) / 2)\n",
    "        + ((np.power(eta,5) * np.power(gamma, 3)) / 10)\n",
    "    )\n",
    "    return val"
   ]
  },
  {
   "cell_type": "markdown",
   "id": "c1f4a783",
   "metadata": {},
   "source": [
    "\\begin{align*}\n",
    "\\sigma_{11}& = \\mathbb{E}\\left[\\left(\\theta^{(k+1)}-\\mathbb{E}\\left[\\theta^{(k+1)}\\big| x^{(k)}\\right]\\right)^2\\Big| x^{(k)}\\right]\\\\\n",
    "& = \\int_{k\\eta}^{(k+1)\\eta}f_1^2 dy\\\\\n",
    "& = 2\\,\\eta \\,\\gamma -{\\mathrm{e}}^{-2\\,\\eta \\,\\gamma }-2\\,\\eta ^2\\,\\gamma ^2+\\frac{2\\,\\eta ^3\\,\\gamma ^3}{3}-4\\,\\eta \\,\\gamma \\,{\\mathrm{e}}^{-\\eta \\,\\gamma }+1\n",
    "\\end{align*}\n"
   ]
  },
  {
   "cell_type": "code",
   "execution_count": 27,
   "id": "d57a67db",
   "metadata": {},
   "outputs": [],
   "source": [
    "def sigma11(gamma, eta):\n",
    "    val = (\n",
    "        (2 * eta * gamma)\n",
    "        - np.exp(-2 * eta * gamma)\n",
    "        - (2 * np.power(eta, 2) * np.power(gamma, 2))\n",
    "        + ((2 * np.power(eta, 3) * np.power(gamma, 3)) / 3)\n",
    "        - (4 * eta * gamma * np.exp(-eta * gamma)) + 1\n",
    "    )\n",
    "    return val"
   ]
  },
  {
   "cell_type": "markdown",
   "id": "da073b31",
   "metadata": {},
   "source": [
    "\\begin{align*}\n",
    "\\sigma_{22}& = \\mathbb{E}\\left[\\left(\\theta^{(k+1)}-\\mathbb{E}\\left[\\theta^{(k+1)}\\big| x^{(k)}\\right]\\right)^2\\Big| x^{(k)}\\right]\\\\\n",
    "& = \\int_{k\\eta}^{(k+1)\\eta}f_2^2 dy\\\\\n",
    "& = 4\\,{\\mathrm{e}}^{-\\eta \\,\\gamma }-\\frac{13\\,{\\mathrm{e}}^{-2\\,\\eta \\,\\gamma }}{2}+8\\,\\eta \\,\\gamma -\\frac{4\\,\\eta ^3\\,\\gamma ^3}{3}+\\frac{\\eta ^5\\,\\gamma ^5}{10}-10\\,\\eta ^2\\,\\gamma ^2\\,{\\mathrm{e}}^{-\\eta \\,\\gamma }-\\eta ^2\\,\\gamma ^2\\,{\\mathrm{e}}^{-2\\,\\eta \\,\\gamma }\\\\\n",
    "& -2\\,\\eta ^3\\,\\gamma ^3\\,{\\mathrm{e}}^{-\\eta \\,\\gamma }-12\\,\\eta \\,\\gamma \\,{\\mathrm{e}}^{-\\eta \\,\\gamma }-5\\,\\eta \\,\\gamma \\,{\\mathrm{e}}^{-2\\,\\eta \\,\\gamma }+\\frac{5}{2}\n",
    "\\end{align*}"
   ]
  },
  {
   "cell_type": "code",
   "execution_count": 28,
   "id": "c8d70088",
   "metadata": {},
   "outputs": [],
   "source": [
    "def sigma22(gamma, eta):\n",
    "    val = (\n",
    "        (4 * np.exp(-eta * gamma))\n",
    "        - ((13 * np.exp(-2*eta*gamma))/2)\n",
    "        + (8 * eta * gamma)\n",
    "        - ((4 * np.power(eta, 3) * np.power(gamma, 3)) / 3)\n",
    "        + ((np.power(eta, 5) * np.power(gamma, 5)) / 10)\n",
    "        - (10 * (np.power(eta, 2) * np.power(gamma, 2)) * np.exp(-eta*gamma))\n",
    "        - (np.power(eta, 2) * np.power(gamma, 2) * np.exp(-2*eta*gamma))\n",
    "        - (2 * (np.power(eta, 3) * np.power(gamma, 3)) * np.exp(-eta*gamma))\n",
    "        - 12 * eta * gamma * np.exp(-eta*gamma)\n",
    "        - 5 * eta * gamma * np.exp(-2*eta*gamma) + 2.5\n",
    "    )\n",
    "    return val"
   ]
  },
  {
   "cell_type": "markdown",
   "id": "486b73de",
   "metadata": {},
   "source": [
    "\\begin{align*}\n",
    "\\sigma_{33}& = \\mathbb{E}\\left[\\left(\\theta^{(k+1)}-\\mathbb{E}\\left[\\theta^{(k+1)}\\big| x^{(k)}\\right]\\right)^2\\Big| x^{(k)}\\right]\\\\\n",
    "& = \\int_{k\\eta}^{(k+1)\\eta}f_3^2 dy\\\\\n",
    "& = \\frac{283\\,\\eta }{4}+88\\,{\\mathrm{e}}^{-\\eta \\,\\gamma }-\\frac{397\\,{\\mathrm{e}}^{-2\\,\\eta \\,\\gamma }}{8}+32\\,\\eta \\,\\gamma +84\\,\\eta \\,{\\mathrm{e}}^{-\\eta \\,\\gamma }\\\\\n",
    "& -\\frac{101\\,\\eta \\,{\\mathrm{e}}^{-2\\,\\eta \\,\\gamma }}{4}+\\frac{159\\,\\eta }{2\\,\\gamma }-24\\,\\eta ^2\\,\\gamma +6\\,\\eta ^3\\,\\gamma +32\\,\\eta ^2\\,{\\mathrm{e}}^{-\\eta \\,\\gamma }\\\\\n",
    "& -\\frac{\\eta ^2\\,{\\mathrm{e}}^{-2\\,\\eta \\,\\gamma }}{2}+\\frac{204\\,{\\mathrm{e}}^{-\\eta \\,\\gamma }}{\\gamma }-\\frac{149\\,{\\mathrm{e}}^{-2\\,\\eta \\,\\gamma }}{4\\,\\gamma }\\\\\n",
    "& +\\frac{192\\,{\\mathrm{e}}^{-\\eta \\,\\gamma }}{\\gamma ^2}-\\frac{21\\,{\\mathrm{e}}^{-2\\,\\eta \\,\\gamma }}{2\\,\\gamma ^2}-\\frac{39\\,\\eta ^2}{2}-\\frac{667}{4\\,\\gamma }\\\\\n",
    "& -\\frac{363}{2\\,\\gamma ^2}-8\\,\\eta ^2\\,\\gamma ^2+\\frac{22\\,\\eta ^3\\,\\gamma ^2}{3}+\\frac{2\\,\\eta ^3\\,\\gamma ^3}{3}-2\\,\\eta ^4\\,\\gamma ^2-\\frac{4\\,\\eta ^4\\,\\gamma ^3}{3}\\\\\n",
    "& +\\frac{7\\,\\eta ^5\\,\\gamma ^3}{15}+\\frac{\\eta ^5\\,\\gamma ^4}{10}-\\frac{\\eta ^6\\,\\gamma ^4}{15}+\\frac{\\eta ^7\\,\\gamma ^5}{210}+\\frac{96\\,\\eta \\,{\\mathrm{e}}^{-\\eta \\,\\gamma }}{\\gamma }\\\\\n",
    "& -\\frac{9\\,\\eta \\,{\\mathrm{e}}^{-2\\,\\eta \\,\\gamma }}{2\\,\\gamma }+36\\,\\eta ^2\\,\\gamma \\,{\\mathrm{e}}^{-\\eta \\,\\gamma }-6\\,\\eta ^2\\,\\gamma \\,{\\mathrm{e}}^{-2\\,\\eta \\,\\gamma }\\\\\n",
    "& +4\\,\\eta ^3\\,\\gamma \\,{\\mathrm{e}}^{-\\eta \\,\\gamma }-10\\,\\eta ^2\\,\\gamma ^2\\,{\\mathrm{e}}^{-\\eta \\,\\gamma }-\\frac{77\\,\\eta ^2\\,\\gamma ^2\\,{\\mathrm{e}}^{-2\\,\\eta \\,\\gamma }}{4}+10\\,\\eta ^3\\,\\gamma ^2\\,{\\mathrm{e}}^{-\\eta \\,\\gamma }\\\\\n",
    "& -\\frac{\\eta ^3\\,\\gamma ^2\\,{\\mathrm{e}}^{-2\\,\\eta \\,\\gamma }}{2}-2\\,\\eta ^3\\,\\gamma ^3\\,{\\mathrm{e}}^{-\\eta \\,\\gamma }-\\frac{7\\,\\eta ^3\\,\\gamma ^3\\,{\\mathrm{e}}^{-2\\,\\eta \\,\\gamma }}{2}+\\eta ^4\\,\\gamma ^3\\,{\\mathrm{e}}^{-\\eta \\,\\gamma }\\\\\n",
    "& -\\frac{\\eta ^4\\,\\gamma ^4\\,{\\mathrm{e}}^{-2\\,\\eta \\,\\gamma }}{4}+8\\,\\eta \\,\\gamma \\,{\\mathrm{e}}^{-\\eta \\,\\gamma }-\\frac{197\\,\\eta \\,\\gamma \\,{\\mathrm{e}}^{-2\\,\\eta \\,\\gamma }}{4}-\\frac{307}{8}\n",
    "\\end{align*}"
   ]
  },
  {
   "cell_type": "code",
   "execution_count": 29,
   "id": "a0ca5856",
   "metadata": {},
   "outputs": [],
   "source": [
    "def sigma33(gamma, eta):\n",
    "    val = (\n",
    "        (283*eta)/4 + 88*np.exp(-eta*gamma)\n",
    "        - (397*np.exp(-2*eta*gamma))/8 + 32*eta*gamma\n",
    "        + 84*eta*np.exp(-eta*gamma) - (101*eta*np.exp(-2*eta*gamma))/4\n",
    "        + (159*eta)/(2*gamma) - 24*eta**2*gamma\n",
    "        + 6*eta**3*gamma + 32*eta**2*np.exp(-eta*gamma)\n",
    "        - (eta**2*np.exp(-2*eta*gamma))/2\n",
    "        + (204*np.exp(-eta*gamma))/gamma\n",
    "        - (149*np.exp(-2*eta*gamma))/(4*gamma)\n",
    "        + (192*np.exp(-eta*gamma))/gamma**2\n",
    "        - (21*np.exp(-2*eta*gamma))/(2*gamma**2)\n",
    "        - (39*eta**2)/2 - 667/(4*gamma) - 363/(2*gamma**2)\n",
    "        - 8*eta**2*gamma**2 + (22*eta**3*gamma**2)/3\n",
    "        + (2*eta**3*gamma**3)/3 - 2*eta**4*gamma**2\n",
    "        - (4*eta**4*gamma**3)/3 + (7*eta**5*gamma**3)/15\n",
    "        + (eta**5*gamma**4)/10 - (eta**6*gamma**4)/15\n",
    "        + (eta**7*gamma**5)/210 + (96*eta*np.exp(-eta*gamma))/gamma\n",
    "        - (9*eta*np.exp(-2*eta*gamma))/(2*gamma)\n",
    "        + 36*eta**2*gamma*np.exp(-eta*gamma)\n",
    "        - 6*eta**2*gamma*np.exp(-2*eta*gamma)\n",
    "        + 4*eta**3*gamma*np.exp(-eta*gamma)\n",
    "        - 10*eta**2*gamma**2*np.exp(-eta*gamma)\n",
    "        - (77*eta**2*gamma**2*np.exp(-2*eta*gamma))/4\n",
    "        + 10*eta**3*gamma**2*np.exp(-eta*gamma)\n",
    "        - (eta**3*gamma**2*np.exp(-2*eta*gamma))/2\n",
    "        - 2*eta**3*gamma**3*np.exp(-eta*gamma)\n",
    "        - (7*eta**3*gamma**3*np.exp(-2*eta*gamma))/2\n",
    "        + eta**4*gamma**3*np.exp(-eta*gamma)\n",
    "        - (eta**4*gamma**4*np.exp(-2*eta*gamma))/4\n",
    "        + 8*eta*gamma*np.exp(-eta*gamma)\n",
    "        - (197*eta*gamma*np.exp(-2*eta*gamma))/4\n",
    "        - 307/8\n",
    "    )\n",
    "    return val"
   ]
  },
  {
   "cell_type": "markdown",
   "id": "275b42ba",
   "metadata": {},
   "source": [
    "\\begin{align*}\n",
    "\\sigma_{01}& = \\mathbb{E}\\left[\\left(\\theta^{(k+1)}-\\mathbb{E}\\left[\\theta^{(k+1)}\\big| x^{(k)}\\right]\\right)^2\\Big| x^{(k)}\\right]\\\\\n",
    "& = \\int_{k\\eta}^{(k+1)\\eta}f_0 f_1 dy\\\\\n",
    "& = \\frac{{\\mathrm{e}}^{-2\\,\\eta \\,\\gamma }\\,{\\left(2\\,{\\mathrm{e}}^{\\eta \\,\\gamma }+\\eta ^2\\,\\gamma ^2\\,{\\mathrm{e}}^{\\eta \\,\\gamma }-2\\,\\eta \\,\\gamma \\,{\\mathrm{e}}^{\\eta \\,\\gamma }-2\\right)}^2}{4\\,\\gamma }\n",
    "\\end{align*}"
   ]
  },
  {
   "cell_type": "code",
   "execution_count": 30,
   "id": "59856583",
   "metadata": {},
   "outputs": [],
   "source": [
    "def sigma01(gamma, eta):\n",
    "    exp1 = np.exp(eta * gamma)\n",
    "    exp2 = np.exp(-2 * eta * gamma)\n",
    "    inner = 2 * exp1 + eta**2 * gamma**2 * exp1 - 2 * eta * gamma * exp1 - 2\n",
    "    return (exp2 * inner**2) / (4 * gamma)"
   ]
  },
  {
   "cell_type": "markdown",
   "id": "00bf7004",
   "metadata": {},
   "source": [
    "\\begin{align*}\n",
    "\\sigma_{02}& = \\mathbb{E}\\left[\\left(\\theta^{(k+1)}-\\mathbb{E}\\left[\\theta^{(k+1)}\\big| x^{(k)}\\right]\\right)^2\\Big| x^{(k)}\\right]\\\\\n",
    "& = \\int_{k\\eta}^{(k+1)\\eta}f_0 f_2 dy\\\\\n",
    "& = 4\\,\\eta +2\\,\\eta \\,{\\mathrm{e}}^{-\\eta \\,\\gamma }-\\eta \\,{\\mathrm{e}}^{-2\\,\\eta \\,\\gamma }-2\\,\\eta ^2\\,\\gamma +\\frac{10\\,{\\mathrm{e}}^{-\\eta \\,\\gamma }}{\\gamma }-\\frac{5\\,{\\mathrm{e}}^{-2\\,\\eta \\,\\gamma }}{2\\,\\gamma }\\\\\n",
    "& -\\frac{15}{2\\,\\gamma }+\\frac{\\eta ^3\\,\\gamma ^2}{3}+\\frac{\\eta ^4\\,\\gamma ^3}{4}-\\frac{\\eta ^5\\,\\gamma ^4}{10}+2\\,\\eta ^2\\,\\gamma \\,{\\mathrm{e}}^{-\\eta \\,\\gamma }+\\eta ^3\\,\\gamma ^2\\,{\\mathrm{e}}^{-\\eta \\,\\gamma }\n",
    "\\end{align*}"
   ]
  },
  {
   "cell_type": "code",
   "execution_count": 31,
   "id": "2d374bef",
   "metadata": {},
   "outputs": [],
   "source": [
    "def sigma02(gamma, eta):\n",
    "    exp1 = np.exp(-eta * gamma)\n",
    "    exp2 = np.exp(-2 * eta * gamma)\n",
    "    \n",
    "    val = (\n",
    "        4 * eta + 2 * eta * exp1 - eta * exp2\n",
    "        - 2 * eta**2 * gamma + (10 * exp1) / gamma\n",
    "        - (5 * exp2) / (2 * gamma) - (15) / (2 * gamma)\n",
    "        + (eta**3 * gamma**2) / 3 + (eta**4 * gamma**3) / 4\n",
    "        - (eta**5 * gamma**4) / 10 + 2 * eta**2 * gamma * exp1\n",
    "        + eta**3 * gamma**2 * exp1\n",
    "    )\n",
    "    return val"
   ]
  },
  {
   "cell_type": "markdown",
   "id": "6558eac2",
   "metadata": {},
   "source": [
    "\\begin{align*}\n",
    "\\sigma_{03}& = \\mathbb{E}\\left[\\left(\\theta^{(k+1)}-\\mathbb{E}\\left[\\theta^{(k+1)}\\big| x^{(k)}\\right]\\right)^2\\Big| x^{(k)}\\right]\\\\\n",
    "& = \\int_{k\\eta}^{(k+1)\\eta}f_0 f_3 dy\\\\\n",
    "& = \\frac{7\\,\\eta \\,{\\mathrm{e}}^{-2\\,\\eta \\,\\gamma }}{2}-18\\,\\eta \\,{\\mathrm{e}}^{-\\eta \\,\\gamma }-8\\,\\eta -\\frac{21\\,\\eta }{2\\,\\gamma }+5\\,\\eta ^2\\,\\gamma\\\\\n",
    "& -\\frac{5\\,\\eta ^3\\,\\gamma }{3}-8\\,\\eta ^2\\,{\\mathrm{e}}^{-\\eta \\,\\gamma }-\\frac{36\\,{\\mathrm{e}}^{-\\eta \\,\\gamma }}{\\gamma }+\\frac{27\\,{\\mathrm{e}}^{-2\\,\\eta \\,\\gamma }}{4\\,\\gamma }\\\\\n",
    "& -\\frac{32\\,{\\mathrm{e}}^{-\\eta \\,\\gamma }}{\\gamma ^2}+\\frac{2\\,{\\mathrm{e}}^{-2\\,\\eta \\,\\gamma }}{\\gamma ^2}+3\\,\\eta ^2+\\frac{117}{4\\,\\gamma }+\\frac{30}{\\gamma ^2}-2\\,\\eta ^3\\,\\gamma ^2\\\\\n",
    "& +\\frac{2\\,\\eta ^4\\,\\gamma ^2}{3}+\\frac{\\eta ^4\\,\\gamma ^3}{4}-\\frac{3\\,\\eta ^5\\,\\gamma ^3}{20}+\\frac{\\eta ^6\\,\\gamma ^4}{60}-\\frac{18\\,\\eta \\,{\\mathrm{e}}^{-\\eta \\,\\gamma }}{\\gamma }\\\\\n",
    "& +\\frac{\\eta \\,{\\mathrm{e}}^{-2\\,\\eta \\,\\gamma }}{2\\,\\gamma }-12\\,\\eta ^2\\,\\gamma \\,{\\mathrm{e}}^{-\\eta \\,\\gamma }+\\frac{\\eta ^2\\,\\gamma \\,{\\mathrm{e}}^{-2\\,\\eta \\,\\gamma }}{2}\\\\\n",
    "& -\\eta ^3\\,\\gamma \\,{\\mathrm{e}}^{-\\eta \\,\\gamma }-4\\,\\eta ^3\\,\\gamma ^2\\,{\\mathrm{e}}^{-\\eta \\,\\gamma }-\\frac{\\eta ^4\\,\\gamma ^3\\,{\\mathrm{e}}^{-\\eta \\,\\gamma }}{2}\n",
    "\\end{align*}"
   ]
  },
  {
   "cell_type": "code",
   "execution_count": 32,
   "id": "37844e3a",
   "metadata": {},
   "outputs": [],
   "source": [
    "def sigma03(gamma, eta):\n",
    "    exp1 = np.exp(-eta * gamma)\n",
    "    exp2 = np.exp(-2 * eta * gamma)\n",
    "\n",
    "    val = (\n",
    "        (7 * eta * exp2) / 2 - 18 * eta * exp1 - 8 * eta\n",
    "        - (21 * eta) / (2 * gamma) + 5 * eta**2 * gamma\n",
    "        - (5 * eta**3 * gamma) / 3 - 8 * eta**2 * exp1\n",
    "        - (36 * exp1) / gamma + (27 * exp2) / (4 * gamma)\n",
    "        - (32 * exp1) / gamma**2 + (2 * exp2) / gamma**2\n",
    "        + 3 * eta**2 + 117 / (4 * gamma) + 30 / gamma**2\n",
    "        - 2 * eta**3 * gamma**2 + (2 * eta**4 * gamma**2) / 3\n",
    "        + (eta**4 * gamma**3) / 4 - (3 * eta**5 * gamma**3) / 20\n",
    "        + (eta**6 * gamma**4) / 60 - (18 * eta * exp1) / gamma\n",
    "        + (eta * exp2) / (2 * gamma) - 12 * eta**2 * gamma * exp1\n",
    "        + (eta**2 * gamma * exp2) / 2 - eta**3 * gamma * exp1\n",
    "        - 4 * eta**3 * gamma**2 * exp1 - (eta**4 * gamma**3 * exp1) / 2\n",
    "    )\n",
    "    return val"
   ]
  },
  {
   "cell_type": "markdown",
   "id": "3c260db0",
   "metadata": {},
   "source": [
    "\\begin{align*}\n",
    "\\sigma_{12}& = \\mathbb{E}\\left[\\left(\\theta^{(k+1)}-\\mathbb{E}\\left[\\theta^{(k+1)}\\big| x^{(k)}\\right]\\right)^2\\Big| x^{(k)}\\right]\\\\\n",
    "& = \\int_{k\\eta}^{(k+1)\\eta}f_1 f_2 dy\\\\\n",
    "& = \\frac{5\\,{\\mathrm{e}}^{-2\\,\\eta \\,\\gamma }}{2}-4\\,\\eta \\,\\gamma +2\\,\\eta ^2\\,\\gamma ^2+\\frac{\\eta ^3\\,\\gamma ^3}{3}-\\frac{\\eta ^4\\,\\gamma ^4}{4}+3\\,\\eta ^2\\,\\gamma ^2\\,{\\mathrm{e}}^{-\\eta \\,\\gamma }\\\\\n",
    "& +8\\,\\eta \\,\\gamma \\,{\\mathrm{e}}^{-\\eta \\,\\gamma }+\\eta \\,\\gamma \\,{\\mathrm{e}}^{-2\\,\\eta \\,\\gamma }-\\frac{5}{2}\n",
    "\\end{align*}"
   ]
  },
  {
   "cell_type": "code",
   "execution_count": 33,
   "id": "206d3a3e",
   "metadata": {},
   "outputs": [],
   "source": [
    "def sigma12(gamma, eta):\n",
    "    exp1 = np.exp(-eta * gamma)\n",
    "    exp2 = np.exp(-2 * eta * gamma)\n",
    "\n",
    "    val = (\n",
    "        (5 * exp2) / 2 - 4 * eta * gamma\n",
    "        + 2 * eta**2 * gamma**2 + (eta**3 * gamma**3) / 3\n",
    "        - (eta**4 * gamma**4) / 4 + 3 * eta**2 * gamma**2 * exp1\n",
    "        + 8 * eta * gamma * exp1 + eta * gamma * exp2 - 5 / 2\n",
    "    )\n",
    "    return val"
   ]
  },
  {
   "cell_type": "markdown",
   "id": "89e2cd30",
   "metadata": {},
   "source": [
    "\\begin{align*}\n",
    "\\sigma_{13}& = \\mathbb{E}\\left[\\left(\\theta^{(k+1)}-\\mathbb{E}\\left[\\theta^{(k+1)}\\big| x^{(k)}\\right]\\right)^2\\Big| x^{(k)}\\right]\\\\\n",
    "& = \\int_{k\\eta}^{(k+1)\\eta}f_1 f_3 dy\\\\\n",
    "& = 8\\,\\eta \\,\\gamma -4\\,{\\mathrm{e}}^{-\\eta \\,\\gamma }-\\frac{27\\,{\\mathrm{e}}^{-2\\,\\eta \\,\\gamma }}{4}-\\frac{3\\,\\eta }{2}-12\\,\\eta \\,{\\mathrm{e}}^{-\\eta \\,\\gamma }\\\\\n",
    "& -\\frac{\\eta \\,{\\mathrm{e}}^{-2\\,\\eta \\,\\gamma }}{2}-3\\,\\eta ^2\\,\\gamma -\\frac{10\\,{\\mathrm{e}}^{-\\eta \\,\\gamma }}{\\gamma }-\\frac{2\\,{\\mathrm{e}}^{-2\\,\\eta \\,\\gamma }}{\\gamma }+\\frac{12}{\\gamma }-5\\,\\eta ^2\\,\\gamma ^2+\\frac{5\\,\\eta ^3\\,\\gamma ^2}{3}+\\frac{2\\,\\eta ^3\\,\\gamma ^3}{3}\\\\\n",
    "& -\\frac{5\\,\\eta ^4\\,\\gamma ^3}{12}+\\frac{\\eta ^5\\,\\gamma ^4}{20}-\\eta ^2\\,\\gamma \\,{\\mathrm{e}}^{-\\eta \\,\\gamma }-8\\,\\eta ^2\\,\\gamma ^2\\,{\\mathrm{e}}^{-\\eta \\,\\gamma }\\\\\n",
    "& -\\frac{\\eta ^2\\,\\gamma ^2\\,{\\mathrm{e}}^{-2\\,\\eta \\,\\gamma }}{2}-\\eta ^3\\,\\gamma ^3\\,{\\mathrm{e}}^{-\\eta \\,\\gamma }-22\\,\\eta \\,\\gamma \\,{\\mathrm{e}}^{-\\eta \\,\\gamma }\\\\\n",
    "& -\\frac{7\\,\\eta \\,\\gamma \\,{\\mathrm{e}}^{-2\\,\\eta \\,\\gamma }}{2}+\\frac{43}{4}\n",
    "\\end{align*}"
   ]
  },
  {
   "cell_type": "code",
   "execution_count": 34,
   "id": "f2951e55",
   "metadata": {},
   "outputs": [],
   "source": [
    "def sigma13(gamma, eta):\n",
    "    exp1 = np.exp(-eta * gamma)\n",
    "    exp2 = np.exp(-2 * eta * gamma)\n",
    "\n",
    "    val = (\n",
    "        8 * eta * gamma - 4 * exp1\n",
    "        - (27 * exp2) / 4 - (3 * eta) / 2\n",
    "        - 12 * eta * exp1 - (eta * exp2) / 2\n",
    "        - 3 * eta**2 * gamma - (10 * exp1) / gamma\n",
    "        - (2 * exp2) / gamma + 12 / gamma - 5 * eta**2 * gamma**2\n",
    "        + (5 * eta**3 * gamma**2) / 3 + (2 * eta**3 * gamma**3) / 3\n",
    "        - (5 * eta**4 * gamma**3) / 12 + (eta**5 * gamma**4) / 20\n",
    "        - eta**2 * gamma * exp1 - 8 * eta**2 * gamma**2 * exp1\n",
    "        - (eta**2 * gamma**2 * exp2) / 2 - eta**3 * gamma**3 * exp1\n",
    "        - 22 * eta * gamma * exp1 - (7 * eta * gamma * exp2) / 2\n",
    "        + 43 / 4\n",
    "    )\n",
    "    return val"
   ]
  },
  {
   "cell_type": "markdown",
   "id": "8aae5231",
   "metadata": {},
   "source": [
    "\\begin{align*}\n",
    "\\sigma_{23}& = \\mathbb{E}\\left[\\left(\\theta^{(k+1)}-\\mathbb{E}\\left[\\theta^{(k+1)}\\big| x^{(k)}\\right]\\right)^2\\Big| x^{(k)}\\right]\\\\\n",
    "& = \\int_{k\\eta}^{(k+1)\\eta}f_2 f_3 dy\\\\\n",
    "& = \\frac{143\\,{\\mathrm{e}}^{-2\\,\\eta \\,\\gamma }}{8}-12\\,{\\mathrm{e}}^{-\\eta \\,\\gamma }-7\\,\\eta -16\\,\\eta \\,\\gamma +18\\,\\eta \\,{\\mathrm{e}}^{-\\eta \\,\\gamma }+\\frac{7\\,\\eta \\,{\\mathrm{e}}^{-2\\,\\eta \\,\\gamma }}{2}+6\\,\\eta ^2\\,\\gamma\\\\\n",
    "& +\\frac{2\\,{\\mathrm{e}}^{-\\eta \\,\\gamma }}{\\gamma }+\\frac{25\\,{\\mathrm{e}}^{-2\\,\\eta \\,\\gamma }}{4\\,\\gamma }-\\frac{33}{4\\,\\gamma }+2\\,\\eta ^2\\,\\gamma ^2-\\frac{4\\,\\eta ^3\\,\\gamma ^2}{3}+\\frac{4\\,\\eta ^3\\,\\gamma ^3}{3}\\\\\n",
    "& -\\frac{\\eta ^4\\,\\gamma ^3}{12}-\\frac{\\eta ^4\\,\\gamma ^4}{4}+\\frac{\\eta ^5\\,\\gamma ^4}{10}-\\frac{\\eta ^6\\,\\gamma ^5}{60}+5\\,\\eta ^2\\,\\gamma \\,{\\mathrm{e}}^{-\\eta \\,\\gamma }+\\frac{\\eta ^2\\,\\gamma \\,{\\mathrm{e}}^{-2\\,\\eta \\,\\gamma }}{2}\\\\\n",
    "& +20\\,\\eta ^2\\,\\gamma ^2\\,{\\mathrm{e}}^{-\\eta \\,\\gamma }+\\frac{19\\,\\eta ^2\\,\\gamma ^2\\,{\\mathrm{e}}^{-2\\,\\eta \\,\\gamma }}{4}+5\\,\\eta ^3\\,\\gamma ^3\\,{\\mathrm{e}}^{-\\eta \\,\\gamma }+\\frac{\\eta ^3\\,\\gamma ^3\\,{\\mathrm{e}}^{-2\\,\\eta \\,\\gamma }}{2}\\\\\n",
    "& +\\frac{\\eta ^4\\,\\gamma ^4\\,{\\mathrm{e}}^{-\\eta \\,\\gamma }}{2}+24\\,\\eta \\,\\gamma \\,{\\mathrm{e}}^{-\\eta \\,\\gamma }+\\frac{63\\,\\eta \\,\\gamma \\,{\\mathrm{e}}^{-2\\,\\eta \\,\\gamma }}{4}-\\frac{47}{8}\n",
    "\\end{align*}"
   ]
  },
  {
   "cell_type": "code",
   "execution_count": 35,
   "id": "d9d9645c",
   "metadata": {},
   "outputs": [],
   "source": [
    "def sigma23(gamma, eta):\n",
    "    exp1 = np.exp(-eta * gamma)\n",
    "    exp2 = np.exp(-2 * eta * gamma)\n",
    "\n",
    "    val = (\n",
    "        (143 * exp2) / 8 - 12 * exp1 - 7 * eta\n",
    "        - 16 * eta * gamma + 18 * eta * exp1\n",
    "        + (7 * eta * exp2) / 2 + 6 * eta**2 * gamma\n",
    "        + (2 * exp1) / gamma + (25 * exp2) / (4 * gamma)\n",
    "        - 33 / (4 * gamma) + 2 * eta**2 * gamma**2\n",
    "        - (4 * eta**3 * gamma**2) / 3 + (4 * eta**3 * gamma**3) / 3\n",
    "        - (eta**4 * gamma**3) / 12 - (eta**4 * gamma**4) / 4\n",
    "        + (eta**5 * gamma**4) / 10 - (eta**6 * gamma**5) / 60\n",
    "        + 5 * eta**2 * gamma * exp1 + (eta**2 * gamma * exp2) / 2\n",
    "        + 20 * eta**2 * gamma**2 * exp1 + (19 * eta**2 * gamma**2 * exp2) / 4\n",
    "        + 5 * eta**3 * gamma**3 * exp1 + (eta**3 * gamma**3 * exp2) / 2\n",
    "        + (eta**4 * gamma**4 * exp1) / 2 + 24 * eta * gamma * exp1\n",
    "        + (63 * eta * gamma * exp2) / 4 - 47 / 8\n",
    "    )\n",
    "    return val"
   ]
  },
  {
   "cell_type": "code",
   "execution_count": 38,
   "id": "ce600dd3",
   "metadata": {},
   "outputs": [],
   "source": [
    "def sigma(x,y):\n",
    "    mat = np.array([\n",
    "        [sigma00(x,y), sigma01(x,y), sigma02(x,y), sigma03(x,y)],\n",
    "        [sigma01(x,y), sigma11(x,y), sigma12(x,y), sigma13(x,y)],\n",
    "        [sigma02(x,y), sigma12(x,y), sigma22(x,y), sigma23(x,y)],\n",
    "        [sigma03(x,y), sigma13(x,y), sigma23(x,y), sigma33(x,y)]\n",
    "    ])\n",
    "    return mat"
   ]
  },
  {
   "cell_type": "code",
   "execution_count": 41,
   "id": "0b767872",
   "metadata": {},
   "outputs": [
    {
     "data": {
      "image/png": "[encoded data removed]",
      "text/plain": [
       "<Figure size 800x500 with 2 Axes>"
      ]
     },
     "metadata": {},
     "output_type": "display_data"
    }
   ],
   "source": [
    "gamma_val = np.linspace(1,60,100)\n",
    "eta_val = np.linspace(0.0001,0.01)\n",
    "X, Y = np.meshgrid(gamma_val, eta_val)\n",
    "\n",
    "pd = np.zeros(X.shape, dtype=bool)\n",
    "\n",
    "for i in range(X.shape[0]):\n",
    "    for j in range(X.shape[1]):\n",
    "        gamma = X[i,j]\n",
    "        eta = Y[i,j]\n",
    "        mat = sigma(gamma, eta)\n",
    "\n",
    "        if np.isfinite(mat).all():  # check for NaN or inf\n",
    "            eigvalues = np.linalg.eigvals(mat)\n",
    "            if np.all(eigvalues > 0):\n",
    "                pd[i,j] = True\n",
    "        else:\n",
    "            pd[i,j] = False  # mark as not positive definite\n",
    "plt.figure(figsize=(8,5))\n",
    "plt.contourf(X,Y, pd, levels=1, cmap='magma', alpha=0.9)\n",
    "plt.colorbar(label='Positive Definite')\n",
    "plt.xlabel('$\\\\gamma$')\n",
    "plt.ylabel('$\\\\eta$')\n",
    "plt.title('Regions where the cov matrix is PD')\n",
    "plt.show()"
   ]
  },
  {
   "cell_type": "code",
   "execution_count": null,
   "id": "4fe161f9",
   "metadata": {},
   "outputs": [],
   "source": []
  }
 ],
 "metadata": {
  "kernelspec": {
   "display_name": "holmc_env",
   "language": "python",
   "name": "python3"
  },
  "language_info": {
   "codemirror_mode": {
    "name": "ipython",
    "version": 3
   },
   "file_extension": ".py",
   "mimetype": "text/x-python",
   "name": "python",
   "nbconvert_exporter": "python",
   "pygments_lexer": "ipython3",
   "version": "3.13.1"
  }
 },
 "nbformat": 4,
 "nbformat_minor": 5
}
