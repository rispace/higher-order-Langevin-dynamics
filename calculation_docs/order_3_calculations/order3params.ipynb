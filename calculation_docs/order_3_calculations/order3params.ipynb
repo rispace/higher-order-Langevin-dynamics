{
 "cells": [
  {
   "cell_type": "markdown",
   "id": "bb8860b1",
   "metadata": {},
   "source": [
    "# Third order Langevin dynamics parameter $\\mu_{ij}$ and $\\sigma_{ij}$ computations  \n",
    "\n",
    "The formula used in this calculation can be found in [this article](https://www.jmlr.org/papers/volume22/20-576/20-576.pdf)"
   ]
  },
  {
   "cell_type": "code",
   "execution_count": 17,
   "id": "01969c41",
   "metadata": {},
   "outputs": [],
   "source": [
    "import numpy as np\n",
    "import matplotlib.pyplot as plt"
   ]
  },
  {
   "cell_type": "markdown",
   "id": "236dadb8",
   "metadata": {},
   "source": [
    "\\begin{aligned}\n",
    "\\mu_{12} &= \\left( 1 + \\frac{\\gamma^2}{\\xi^2} \\right)\\eta - \\frac{\\gamma^2}{2\\xi} \\eta^2 - \\frac{\\gamma^2}{\\xi^3}(1 - e^{-\\xi\\eta}) \n",
    "\\end{aligned}"
   ]
  },
  {
   "cell_type": "code",
   "execution_count": 2,
   "id": "3a933b50",
   "metadata": {},
   "outputs": [],
   "source": [
    "def mu12(gamma, eta, xi):\n",
    "    val = (\n",
    "        (1 + gamma**2 / xi**2) * eta\n",
    "        - (gamma**2 / (2 * xi)) * eta**2\n",
    "        - (gamma**2 / xi**3) * (1 - np.exp(-xi * eta))\n",
    "    )\n",
    "    return val"
   ]
  },
  {
   "cell_type": "markdown",
   "id": "5ca58431",
   "metadata": {},
   "source": [
    "\\begin{aligned}\n",
    "\\mu_{13} &= \\frac{\\gamma}{\\xi} \\eta + \\frac{\\gamma}{\\xi^2} \\left( e^{-\\xi\\eta} - 1 \\right) \\\\\n",
    "\\end{aligned}"
   ]
  },
  {
   "cell_type": "code",
   "execution_count": 3,
   "id": "bd5b0a94",
   "metadata": {},
   "outputs": [],
   "source": [
    "def mu13(gamma, eta, xi):\n",
    "    val = (\n",
    "        (gamma / xi) * eta\n",
    "        + (gamma / xi**2) * (np.exp(-xi * eta) - 1)\n",
    "    )\n",
    "    return val"
   ]
  },
  {
   "cell_type": "markdown",
   "id": "3d4b226b",
   "metadata": {},
   "source": [
    "\\begin{aligned}\n",
    "\\mu_{22} &= 1 + \\frac{\\gamma^2}{\\xi^2} \\left( 1 - \\xi \\eta - e^{-\\xi\\eta} \\right) \\\\\n",
    "\\end{aligned}"
   ]
  },
  {
   "cell_type": "code",
   "execution_count": 4,
   "id": "181da6d7",
   "metadata": {},
   "outputs": [],
   "source": [
    "def mu22(gamma, eta, xi):\n",
    "    val = (\n",
    "        1 + (gamma**2 / xi**2) * (1 - xi * eta - np.exp(-xi * eta))\n",
    "    )\n",
    "    return val"
   ]
  },
  {
   "cell_type": "markdown",
   "id": "6edd5d31",
   "metadata": {},
   "source": [
    "\\begin{aligned}\n",
    "\\mu_{23} &= \\frac{\\gamma}{\\xi} \\left( 1 - e^{-\\xi\\eta} \\right)\n",
    "\\end{aligned}"
   ]
  },
  {
   "cell_type": "code",
   "execution_count": 5,
   "id": "139cdcdc",
   "metadata": {},
   "outputs": [],
   "source": [
    "def mu23(gamma, eta, xi):\n",
    "    val = (\n",
    "        (gamma / xi) * (1 - np.exp(-xi * eta))\n",
    "    )\n",
    "    return val"
   ]
  },
  {
   "cell_type": "markdown",
   "id": "70f8972b",
   "metadata": {},
   "source": [
    "\\begin{aligned}\n",
    "\\mu_{31} &= \\frac{\\gamma}{\\xi} - \\frac{\\gamma}{\\xi^2} \\cdot \\frac{1 - e^{-\\xi\\eta}}{\\eta}\n",
    "\\end{aligned}"
   ]
  },
  {
   "cell_type": "code",
   "execution_count": 6,
   "id": "e73da3d1",
   "metadata": {},
   "outputs": [],
   "source": [
    "def mu31(gamma, eta, xi):\n",
    "    val = (\n",
    "        (gamma / xi)\n",
    "        - (gamma / xi**2) * ((1 - np.exp(-xi * eta)) / eta)\n",
    "    )\n",
    "    return val"
   ]
  },
  {
   "cell_type": "markdown",
   "id": "c846be95",
   "metadata": {},
   "source": [
    "\\begin{aligned}\n",
    "\\mu_{32} &= \\frac{\\gamma^3}{\\xi^2} \\eta + \\frac{\\gamma^3}{\\xi^2} \\eta e^{-\\xi\\eta} - \\left( \\frac{2\\gamma^3}{\\xi^3} + \\frac{\\gamma}{\\xi} \\right)(1 - e^{-\\xi\\eta})\n",
    "\\end{aligned}"
   ]
  },
  {
   "cell_type": "code",
   "execution_count": 7,
   "id": "ef005da6",
   "metadata": {},
   "outputs": [],
   "source": [
    "def mu32(gamma, eta, xi):\n",
    "    val = (\n",
    "        (gamma**3 / xi**2) * eta\n",
    "        + (gamma**3 / xi**2) * eta * np.exp(-xi * eta)\n",
    "        - (2 * gamma**3 / xi**3 + gamma / xi) * (1 - np.exp(-xi * eta))\n",
    "    )\n",
    "    return val"
   ]
  },
  {
   "cell_type": "markdown",
   "id": "a2b6d5b3",
   "metadata": {},
   "source": [
    "\\begin{aligned}\n",
    "\\mu_{33} &= e^{-\\xi\\eta} + \\frac{\\gamma^2}{\\xi} \\eta e^{-\\xi\\eta} - \\frac{\\gamma^2}{\\xi^2}(1 - e^{-\\xi\\eta})\n",
    "\\end{aligned}"
   ]
  },
  {
   "cell_type": "code",
   "execution_count": 8,
   "id": "6054a81a",
   "metadata": {},
   "outputs": [],
   "source": [
    "def mu33(gamma, eta, xi):\n",
    "    val = (\n",
    "        np.exp(-xi * eta)\n",
    "        + (gamma**2 / xi) * eta * np.exp(-xi * eta)\n",
    "        - (gamma**2 / xi**2) * (1 - np.exp(-xi * eta))\n",
    "    )\n",
    "    return val"
   ]
  },
  {
   "cell_type": "code",
   "execution_count": 9,
   "id": "29543c29",
   "metadata": {},
   "outputs": [],
   "source": [
    "def sigma11(gamma, eta, xi):\n",
    "    exp1 = np.exp(-eta*xi)\n",
    "    exp2 = np.exp(-2*eta*xi)\n",
    "    val = (\n",
    "        (2 * np.power(gamma, 2) * eta) / np.power(xi, 3)\n",
    "        - (2 * np.power(gamma, 2) * np.power(eta, 2)) / np.power(xi, 2)\n",
    "        + (2 * np.power(gamma, 2) * np.power(eta, 3)) / (3 * xi)\n",
    "        - (4 * np.power(gamma, 2) * eta * exp1) / np.power(xi, 3)\n",
    "        + (np.power(gamma, 2) * (1 - exp2)) / np.power(xi, 4)\n",
    "    )\n",
    "    return val"
   ]
  },
  {
   "cell_type": "code",
   "execution_count": 10,
   "id": "f64c3f48",
   "metadata": {},
   "outputs": [],
   "source": [
    "def sigma12(gamma, eta, xi):\n",
    "    exp1 = np.exp(-eta*xi)\n",
    "    val = (\n",
    "        (np.power(gamma, 2) * np.power((xi * eta - (1 - exp1)), 2))/ np.power(xi, 3)\n",
    "    )\n",
    "    return val"
   ]
  },
  {
   "cell_type": "code",
   "execution_count": 11,
   "id": "55b2cc69",
   "metadata": {},
   "outputs": [],
   "source": [
    "def sigma22(gamma, eta, xi):\n",
    "    exp1 = np.exp(-eta*xi)\n",
    "    exp2 = np.exp(-2*eta*xi)\n",
    "    val = (\n",
    "        (2 * np.power(gamma, 2) * eta) / xi\n",
    "        - (4 * np.power(gamma, 2) * (1 - exp1)) / np.power(xi, 2)\n",
    "        + (np.power(gamma, 2) * (1 - exp2)) / np.power(xi, 2)\n",
    "    )\n",
    "    return val"
   ]
  },
  {
   "cell_type": "code",
   "execution_count": 12,
   "id": "bd8c8ebb",
   "metadata": {},
   "outputs": [],
   "source": [
    "def sigma13(gamma, eta, xi):\n",
    "    exp1 = np.exp(-eta*xi)\n",
    "    exp2 = np.exp(-2*eta*xi)\n",
    "    val = (\n",
    "        - (np.power(gamma, 3) * np.power(eta, 2) * (2*exp1 + 1)) / np.power(xi, 2)\n",
    "        + eta * (\n",
    "            (2 * np.power(gamma, 3)) / np.power(xi, 3)\n",
    "            - (np.power(gamma, 3) * exp2) / np.power(xi, 3)\n",
    "            - (4 * np.power(gamma, 3) * exp1) / np.power(xi, 3)\n",
    "            - (2 * gamma * exp1) / xi\n",
    "        )\n",
    "        + (\n",
    "            ((3 * np.power(gamma, 3)) / (2 * np.power(xi, 4)))\n",
    "            + gamma / np.power(xi, 2)\n",
    "        ) * (1 - exp2)\n",
    "    )\n",
    "    return val"
   ]
  },
  {
   "cell_type": "code",
   "execution_count": 13,
   "id": "a7c3950e",
   "metadata": {},
   "outputs": [],
   "source": [
    "def sigma23(gamma, eta, xi):\n",
    "    exp1 = np.exp(-eta*xi)\n",
    "    exp2 = np.exp(-2*eta*xi)\n",
    "    val = (\n",
    "        (np.power(gamma, 3) * (exp2 - 2 * exp1 - 2) * eta) / np.power(xi, 2)\n",
    "        + (3 * np.power(gamma, 3) * (exp2 - 4 * exp1 + 3)) / (2 * np.power(xi, 3))\n",
    "        + (gamma * np.power((1 - exp1), 2)) / xi\n",
    "    )\n",
    "    return val"
   ]
  },
  {
   "cell_type": "code",
   "execution_count": 14,
   "id": "86704f14",
   "metadata": {},
   "outputs": [],
   "source": [
    "def sigma33(gamma, eta, xi):\n",
    "    exp1 = np.exp(-eta*xi)\n",
    "    exp2 = np.exp(-2*eta*xi)\n",
    "    val = (\n",
    "        - (np.power(gamma, 4) * np.power(eta, 2) * exp2) / np.power(xi, 2)\n",
    "        + eta * (\n",
    "            - (2 * np.power(gamma, 2) * exp2) / xi\n",
    "            + (np.power(gamma, 4) * (-3 * exp2 + 4 * exp1 +2)) / np.power(xi, 3)\n",
    "        )\n",
    "        + (np.power(gamma, 4) * (-5 * exp2 + 16 * exp1 - 11)) / (2 * np.power(xi, 4))\n",
    "        + ((np.power(gamma, 2) * (-3 * exp2 + 4 * exp1 - 1)) / np.power(xi, 2))\n",
    "        + (1 - exp2)\n",
    "    )\n",
    "    return val"
   ]
  },
  {
   "cell_type": "code",
   "execution_count": 15,
   "id": "2fb396de",
   "metadata": {},
   "outputs": [],
   "source": [
    "def sigma(x, y, z):\n",
    "    mat = np.array([\n",
    "        [sigma11(x,y,z), sigma12(x,y,z), sigma13(x,y,z)],\n",
    "        [sigma12(x,y,z), sigma22(x,y,z), sigma23(x,y,z)],\n",
    "        [sigma13(x,y,z), sigma23(x,y,z), sigma33(x,y,z)],\n",
    "    ])\n",
    "    return mat"
   ]
  },
  {
   "cell_type": "code",
   "execution_count": 18,
   "id": "a4172ae0",
   "metadata": {},
   "outputs": [
    {
     "data": {
      "image/png": "[encoded data removed]",
      "text/plain": [
       "<Figure size 800x500 with 2 Axes>"
      ]
     },
     "metadata": {},
     "output_type": "display_data"
    }
   ],
   "source": [
    "# Grid setup\n",
    "gamma_val = np.linspace(1, 10,10)\n",
    "eta_val = np.linspace(0.0001, 0.001,10)\n",
    "xi_val = np.linspace(1, 10,10)\n",
    "\n",
    "# 3D meshgrid\n",
    "GAMMA, ETA, XI = np.meshgrid(gamma_val, eta_val, xi_val, indexing='ij')  \n",
    "\n",
    "pd = np.zeros(GAMMA.shape, dtype=bool)\n",
    "\n",
    "# Iterate through 3D grid\n",
    "for i in range(GAMMA.shape[0]):\n",
    "    for j in range(GAMMA.shape[1]):\n",
    "        for k in range(GAMMA.shape[2]):\n",
    "            gamma = GAMMA[i, j, k]\n",
    "            eta = ETA[i, j, k]\n",
    "            xi = XI[i, j, k]\n",
    "            mat = sigma(gamma, eta, xi)\n",
    "\n",
    "            if np.isfinite(mat).all():\n",
    "                eigvalues = np.linalg.eigvals(mat)\n",
    "                if np.all(eigvalues > 0):\n",
    "                    pd[i, j, k] = True\n",
    "\n",
    "# Plot slice at a fixed xi index (e.g., middle slice)\n",
    "xi_index = len(xi_val) // 2\n",
    "\n",
    "plt.figure(figsize=(8, 5))\n",
    "plt.contourf(\n",
    "    GAMMA[:, :, xi_index],\n",
    "    ETA[:, :, xi_index], \n",
    "    pd[:, :, xi_index], \n",
    "    levels=1, \n",
    "    cmap='magma', \n",
    "    alpha=0.9\n",
    ")\n",
    "plt.colorbar(label='Positive Definite')\n",
    "plt.xlabel('$\\\\gamma$')\n",
    "plt.ylabel('$\\\\eta$')\n",
    "plt.title(f'Regions where the covariance matrix is PD (xi ≈ {xi_val[xi_index]:.2f})')\n",
    "plt.show()"
   ]
  },
  {
   "cell_type": "code",
   "execution_count": null,
   "id": "ffa9ac76",
   "metadata": {},
   "outputs": [],
   "source": []
  }
 ],
 "metadata": {
  "kernelspec": {
   "display_name": "holmc_env",
   "language": "python",
   "name": "python3"
  },
  "language_info": {
   "codemirror_mode": {
    "name": "ipython",
    "version": 3
   },
   "file_extension": ".py",
   "mimetype": "text/x-python",
   "name": "python",
   "nbconvert_exporter": "python",
   "pygments_lexer": "ipython3",
   "version": "3.13.1"
  }
 },
 "nbformat": 4,
 "nbformat_minor": 5
}
