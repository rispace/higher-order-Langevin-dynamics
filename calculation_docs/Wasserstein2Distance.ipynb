{
 "cells": [
  {
   "cell_type": "markdown",
   "id": "8fd9ff95",
   "metadata": {},
   "source": [
    "Let $P_1$ and $P_2$ be Gaussian measures on $\\mathbb{R}^n$ with means $\\mu_1$ and $\\mu_2$ and covariance matrices $\\Sigma_1$ and $\\Sigma_2$. The $L^2$ Wasserstein distance $\\mathcal{W}_2 (P_1,P_2)$ is given by  \n",
    "\n",
    "\n",
    "$$\\mathcal{W}_2 (P_1,P_2)=\\sqrt{\\|\\mu_1-\\mu_2\\|^2+\\text{tr}(\\Sigma_1)+\\text{tr}(\\Sigma_2)-2\\text{tr}\\left[\\left(\\sqrt{\\Sigma_1}\\Sigma_2\\sqrt{\\Sigma_1}\\right)^{\\frac{1}{2}}\\right]}$$"
   ]
  },
  {
   "cell_type": "markdown",
   "id": "fddcd903",
   "metadata": {},
   "source": []
  }
 ],
 "metadata": {
  "kernelspec": {
   "display_name": "hlmc",
   "language": "python",
   "name": "python3"
  },
  "language_info": {
   "codemirror_mode": {
    "name": "ipython",
    "version": 3
   },
   "file_extension": ".py",
   "mimetype": "text/x-python",
   "name": "python",
   "nbconvert_exporter": "python",
   "pygments_lexer": "ipython3",
   "version": "3.13.1"
  }
 },
 "nbformat": 4,
 "nbformat_minor": 5
}
